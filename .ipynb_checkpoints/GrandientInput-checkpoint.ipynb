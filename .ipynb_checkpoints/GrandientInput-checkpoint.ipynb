{
 "cells": [
  {
   "cell_type": "markdown",
   "metadata": {},
   "source": [
    "# Guide Line for gradient_input"
   ]
  },
  {
   "cell_type": "code",
   "execution_count": 1,
   "metadata": {
    "ExecuteTime": {
     "end_time": "2021-10-27T08:36:03.913264Z",
     "start_time": "2021-10-27T08:36:03.788165Z"
    }
   },
   "outputs": [
    {
     "name": "stdout",
     "output_type": "stream",
     "text": [
      "importing Jupyter notebook from Model_dev.ipynb\n",
      "importing Jupyter notebook from model_dev.ipynb\n"
     ]
    }
   ],
   "source": [
    "import os\n",
    "import pandas as pd\n",
    "import numpy as np\n",
    "import prediction_painter\n",
    "import import_ipynb\n",
    "from model_dev import rmse\n",
    "from gradient_input import GradientInput"
   ]
  },
  {
   "cell_type": "markdown",
   "metadata": {},
   "source": [
    "## Begin with log file"
   ]
  },
  {
   "cell_type": "code",
   "execution_count": 2,
   "metadata": {
    "ExecuteTime": {
     "end_time": "2021-10-27T08:33:38.885598Z",
     "start_time": "2021-10-27T08:33:38.871032Z"
    }
   },
   "outputs": [],
   "source": [
    "df_log = pd.read_csv(\"Log/Models.csv\", index_col=0)\n",
    "df_log['Model_path'] = df_log['Model_path'].apply(lambda x: x.replace('C:\\\\Users\\\\wasin\\\\Downloads\\\\Work\\\\PG(HKU)\\\\FYP\\\\Program_Data\\\\',''))\n",
    "df_log.to_csv(os.path.join(os.getcwd(), \"Log\", \"Models.csv\"))"
   ]
  },
  {
   "cell_type": "code",
   "execution_count": 3,
   "metadata": {
    "ExecuteTime": {
     "end_time": "2021-10-27T08:33:38.956643Z",
     "start_time": "2021-10-27T08:33:38.931639Z"
    }
   },
   "outputs": [
    {
     "data": {
      "text/html": [
       "<div>\n",
       "<style scoped>\n",
       "    .dataframe tbody tr th:only-of-type {\n",
       "        vertical-align: middle;\n",
       "    }\n",
       "\n",
       "    .dataframe tbody tr th {\n",
       "        vertical-align: top;\n",
       "    }\n",
       "\n",
       "    .dataframe thead th {\n",
       "        text-align: right;\n",
       "    }\n",
       "</style>\n",
       "<table border=\"1\" class=\"dataframe\">\n",
       "  <thead>\n",
       "    <tr style=\"text-align: right;\">\n",
       "      <th></th>\n",
       "      <th>Time</th>\n",
       "      <th>Model_path</th>\n",
       "      <th>Algorithm</th>\n",
       "      <th>Loss</th>\n",
       "      <th>Validation Loss</th>\n",
       "      <th>Country</th>\n",
       "      <th>Features</th>\n",
       "    </tr>\n",
       "  </thead>\n",
       "  <tbody>\n",
       "    <tr>\n",
       "      <th>698</th>\n",
       "      <td>20211028 18-11</td>\n",
       "      <td>Models\\20211028 18-11C-LSTM</td>\n",
       "      <td>C-LSTM</td>\n",
       "      <td>0.002444</td>\n",
       "      <td>0.062949</td>\n",
       "      <td>United States</td>\n",
       "      <td>PCS</td>\n",
       "    </tr>\n",
       "    <tr>\n",
       "      <th>699</th>\n",
       "      <td>20211028 20-07</td>\n",
       "      <td>Models\\20211028 20-07LSTM</td>\n",
       "      <td>LSTM</td>\n",
       "      <td>0.003430</td>\n",
       "      <td>0.115070</td>\n",
       "      <td>United States</td>\n",
       "      <td>P</td>\n",
       "    </tr>\n",
       "    <tr>\n",
       "      <th>700</th>\n",
       "      <td>20211028 20-07</td>\n",
       "      <td>Models\\20211028 20-07Attention</td>\n",
       "      <td>Attention</td>\n",
       "      <td>0.032721</td>\n",
       "      <td>0.121143</td>\n",
       "      <td>United States</td>\n",
       "      <td>P</td>\n",
       "    </tr>\n",
       "    <tr>\n",
       "      <th>701</th>\n",
       "      <td>20211028 20-07</td>\n",
       "      <td>Models\\20211028 20-07C-LSTM</td>\n",
       "      <td>C-LSTM</td>\n",
       "      <td>0.003097</td>\n",
       "      <td>0.143342</td>\n",
       "      <td>United States</td>\n",
       "      <td>P</td>\n",
       "    </tr>\n",
       "    <tr>\n",
       "      <th>702</th>\n",
       "      <td>20211028 20-26</td>\n",
       "      <td>Models\\20211028 20-26LSTM</td>\n",
       "      <td>LSTM</td>\n",
       "      <td>0.002320</td>\n",
       "      <td>0.142633</td>\n",
       "      <td>United States</td>\n",
       "      <td>PC</td>\n",
       "    </tr>\n",
       "    <tr>\n",
       "      <th>703</th>\n",
       "      <td>20211028 20-26</td>\n",
       "      <td>Models\\20211028 20-26Attention</td>\n",
       "      <td>Attention</td>\n",
       "      <td>0.018092</td>\n",
       "      <td>0.113836</td>\n",
       "      <td>United States</td>\n",
       "      <td>PC</td>\n",
       "    </tr>\n",
       "    <tr>\n",
       "      <th>704</th>\n",
       "      <td>20211028 20-26</td>\n",
       "      <td>Models\\20211028 20-26C-LSTM</td>\n",
       "      <td>C-LSTM</td>\n",
       "      <td>0.004257</td>\n",
       "      <td>0.137845</td>\n",
       "      <td>United States</td>\n",
       "      <td>PC</td>\n",
       "    </tr>\n",
       "    <tr>\n",
       "      <th>705</th>\n",
       "      <td>20211028 20-45</td>\n",
       "      <td>Models\\20211028 20-45LSTM</td>\n",
       "      <td>LSTM</td>\n",
       "      <td>0.002555</td>\n",
       "      <td>0.095905</td>\n",
       "      <td>United States</td>\n",
       "      <td>PCS</td>\n",
       "    </tr>\n",
       "    <tr>\n",
       "      <th>706</th>\n",
       "      <td>20211028 20-45</td>\n",
       "      <td>Models\\20211028 20-45Attention</td>\n",
       "      <td>Attention</td>\n",
       "      <td>0.012222</td>\n",
       "      <td>0.106601</td>\n",
       "      <td>United States</td>\n",
       "      <td>PCS</td>\n",
       "    </tr>\n",
       "    <tr>\n",
       "      <th>707</th>\n",
       "      <td>20211028 20-45</td>\n",
       "      <td>Models\\20211028 20-45C-LSTM</td>\n",
       "      <td>C-LSTM</td>\n",
       "      <td>0.002444</td>\n",
       "      <td>0.062949</td>\n",
       "      <td>United States</td>\n",
       "      <td>PCS</td>\n",
       "    </tr>\n",
       "  </tbody>\n",
       "</table>\n",
       "</div>"
      ],
      "text/plain": [
       "               Time                      Model_path  Algorithm      Loss  \\\n",
       "698  20211028 18-11     Models\\20211028 18-11C-LSTM     C-LSTM  0.002444   \n",
       "699  20211028 20-07       Models\\20211028 20-07LSTM       LSTM  0.003430   \n",
       "700  20211028 20-07  Models\\20211028 20-07Attention  Attention  0.032721   \n",
       "701  20211028 20-07     Models\\20211028 20-07C-LSTM     C-LSTM  0.003097   \n",
       "702  20211028 20-26       Models\\20211028 20-26LSTM       LSTM  0.002320   \n",
       "703  20211028 20-26  Models\\20211028 20-26Attention  Attention  0.018092   \n",
       "704  20211028 20-26     Models\\20211028 20-26C-LSTM     C-LSTM  0.004257   \n",
       "705  20211028 20-45       Models\\20211028 20-45LSTM       LSTM  0.002555   \n",
       "706  20211028 20-45  Models\\20211028 20-45Attention  Attention  0.012222   \n",
       "707  20211028 20-45     Models\\20211028 20-45C-LSTM     C-LSTM  0.002444   \n",
       "\n",
       "     Validation Loss        Country Features  \n",
       "698         0.062949  United States      PCS  \n",
       "699         0.115070  United States        P  \n",
       "700         0.121143  United States        P  \n",
       "701         0.143342  United States        P  \n",
       "702         0.142633  United States       PC  \n",
       "703         0.113836  United States       PC  \n",
       "704         0.137845  United States       PC  \n",
       "705         0.095905  United States      PCS  \n",
       "706         0.106601  United States      PCS  \n",
       "707         0.062949  United States      PCS  "
      ]
     },
     "execution_count": 3,
     "metadata": {},
     "output_type": "execute_result"
    }
   ],
   "source": [
    "df_log.tail(10)"
   ]
  },
  {
   "cell_type": "code",
   "execution_count": 4,
   "metadata": {
    "ExecuteTime": {
     "end_time": "2021-10-27T08:36:12.719370Z",
     "start_time": "2021-10-27T08:36:07.651223Z"
    }
   },
   "outputs": [
    {
     "name": "stdout",
     "output_type": "stream",
     "text": [
      "##### Reshape and MinMaxScale input #####\n",
      "(536, 14, 26) (536, 7, 1) (60, 14, 26) (60, 7, 1)\n"
     ]
    },
    {
     "data": {
      "image/png": "[encoded data removed]",
      "text/plain": [
       "<Figure size 1008x288 with 1 Axes>"
      ]
     },
     "metadata": {
      "needs_background": "light"
     },
     "output_type": "display_data"
    }
   ],
   "source": [
    "algo, model_path, f_flag, country = prediction_painter.plot_from_dataframe(df_log,677,custom_objects= dict(loss=rmse))"
   ]
  },
  {
   "cell_type": "markdown",
   "metadata": {},
   "source": [
    "## Create GradientInput object"
   ]
  },
  {
   "cell_type": "code",
   "execution_count": 5,
   "metadata": {
    "ExecuteTime": {
     "end_time": "2021-10-27T08:36:33.039413Z",
     "start_time": "2021-10-27T08:36:28.811784Z"
    }
   },
   "outputs": [
    {
     "name": "stdout",
     "output_type": "stream",
     "text": [
      "##### Reshape and MinMaxScale input #####\n",
      "(536, 14, 26) (536, 7, 1) (60, 14, 26) (60, 7, 1)\n",
      "C-LSTM Models\\20211027 20-15C-LSTM PC India\n",
      "X shape: (596, 14, 26)  y shape: (596, 7, 1)\n",
      "Date Range:1/1/2020~1/9/2021\n"
     ]
    }
   ],
   "source": [
    "India_gradient = GradientInput(algo, model_path, f_flag, country)"
   ]
  },
  {
   "cell_type": "markdown",
   "metadata": {},
   "source": [
    "## Check '1/7/2021' "
   ]
  },
  {
   "cell_type": "code",
   "execution_count": 12,
   "metadata": {
    "ExecuteTime": {
     "end_time": "2021-10-27T08:38:51.550158Z",
     "start_time": "2021-10-27T08:38:43.406361Z"
    }
   },
   "outputs": [
    {
     "name": "stderr",
     "output_type": "stream",
     "text": [
      " 28%|█████████████████████▉                                                         | 277/1000 [00:34<01:29,  8.10it/s]\n"
     ]
    },
    {
     "data": {
      "image/png": "[encoded data removed]",
      "text/plain": [
       "<Figure size 864x288 with 1 Axes>"
      ]
     },
     "metadata": {
      "needs_background": "light"
     },
     "output_type": "display_data"
    },
    {
     "ename": "TypeError",
     "evalue": "y_inverse_scaler() takes 2 positional arguments but 3 were given",
     "output_type": "error",
     "traceback": [
      "\u001b[1;31m---------------------------------------------------------------------------\u001b[0m",
      "\u001b[1;31mTypeError\u001b[0m                                 Traceback (most recent call last)",
      "\u001b[1;32m~\\AppData\\Local\\Temp/ipykernel_20340/2506473511.py\u001b[0m in \u001b[0;36m<module>\u001b[1;34m\u001b[0m\n\u001b[1;32m----> 1\u001b[1;33m \u001b[0mdf_gradiented\u001b[0m \u001b[1;33m=\u001b[0m \u001b[0mIndia_gradient\u001b[0m\u001b[1;33m.\u001b[0m\u001b[0mgradient_input\u001b[0m\u001b[1;33m(\u001b[0m\u001b[1;34m'15/8/2021'\u001b[0m\u001b[1;33m,\u001b[0m \u001b[0mratio\u001b[0m \u001b[1;33m=\u001b[0m \u001b[1;36m0.5\u001b[0m\u001b[1;33m,\u001b[0m \u001b[0mstep\u001b[0m \u001b[1;33m=\u001b[0m \u001b[1;36m1000\u001b[0m\u001b[1;33m,\u001b[0m \u001b[0mlearning_rate\u001b[0m \u001b[1;33m=\u001b[0m \u001b[1;36m5e-3\u001b[0m\u001b[1;33m)\u001b[0m\u001b[1;33m\u001b[0m\u001b[1;33m\u001b[0m\u001b[0m\n\u001b[0m",
      "\u001b[1;32m~\\Downloads\\Work\\PG(HKU)\\FYP\\Program_Data\\gradient_input.py\u001b[0m in \u001b[0;36mgradient_input\u001b[1;34m(self, index, ratio, step, learning_rate, gradient_only)\u001b[0m\n\u001b[0;32m     81\u001b[0m                            index = self.features)\n\u001b[0;32m     82\u001b[0m \u001b[1;33m\u001b[0m\u001b[0m\n\u001b[1;32m---> 83\u001b[1;33m         \u001b[0mself\u001b[0m\u001b[1;33m.\u001b[0m\u001b[0mplot_new_predictions\u001b[0m\u001b[1;33m(\u001b[0m\u001b[0mA_orig\u001b[0m\u001b[1;33m,\u001b[0m\u001b[0mA\u001b[0m \u001b[1;33m,\u001b[0m\u001b[0mA_Date\u001b[0m\u001b[1;33m,\u001b[0m\u001b[0my_Date\u001b[0m\u001b[1;33m,\u001b[0m \u001b[0mY_target\u001b[0m\u001b[1;33m)\u001b[0m\u001b[1;33m\u001b[0m\u001b[1;33m\u001b[0m\u001b[0m\n\u001b[0m\u001b[0;32m     84\u001b[0m         \u001b[0mA_divid\u001b[0m \u001b[1;33m=\u001b[0m \u001b[0mA_orig\u001b[0m\u001b[1;33m.\u001b[0m\u001b[0mnumpy\u001b[0m\u001b[1;33m(\u001b[0m\u001b[1;33m)\u001b[0m\u001b[1;33m\u001b[0m\u001b[1;33m\u001b[0m\u001b[0m\n\u001b[0;32m     85\u001b[0m         \u001b[0mA_divid\u001b[0m\u001b[1;33m[\u001b[0m\u001b[0mA_divid\u001b[0m\u001b[1;33m==\u001b[0m\u001b[1;36m0\u001b[0m\u001b[1;33m]\u001b[0m \u001b[1;33m=\u001b[0m \u001b[1;36m1\u001b[0m\u001b[1;33m\u001b[0m\u001b[1;33m\u001b[0m\u001b[0m\n",
      "\u001b[1;32m~\\Downloads\\Work\\PG(HKU)\\FYP\\Program_Data\\gradient_input.py\u001b[0m in \u001b[0;36mplot_new_predictions\u001b[1;34m(self, A_orig, A, A_Date, y_Date, Y_target)\u001b[0m\n\u001b[0;32m    154\u001b[0m         \u001b[0mplt\u001b[0m\u001b[1;33m.\u001b[0m\u001b[0mfigure\u001b[0m\u001b[1;33m(\u001b[0m\u001b[0mfigsize\u001b[0m \u001b[1;33m=\u001b[0m \u001b[1;33m(\u001b[0m\u001b[1;36m12\u001b[0m\u001b[1;33m,\u001b[0m\u001b[1;36m4\u001b[0m\u001b[1;33m)\u001b[0m\u001b[1;33m)\u001b[0m\u001b[1;33m\u001b[0m\u001b[1;33m\u001b[0m\u001b[0m\n\u001b[0;32m    155\u001b[0m         plt.scatter([dt.strptime(x, \"%d/%m/%Y\") for x in A_Date.values],\n\u001b[1;32m--> 156\u001b[1;33m                      \u001b[0mprediction_painter\u001b[0m\u001b[1;33m.\u001b[0m\u001b[0my_inverse_scaler\u001b[0m\u001b[1;33m(\u001b[0m\u001b[0mdaily_cases_X\u001b[0m\u001b[1;33m.\u001b[0m\u001b[0mT\u001b[0m\u001b[1;33m,\u001b[0m\u001b[0mself\u001b[0m\u001b[1;33m.\u001b[0m\u001b[0mscaler\u001b[0m\u001b[1;33m,\u001b[0m \u001b[0mdaily_cases_id\u001b[0m\u001b[1;33m)\u001b[0m\u001b[1;33m,\u001b[0m\u001b[1;33m\u001b[0m\u001b[1;33m\u001b[0m\u001b[0m\n\u001b[0m\u001b[0;32m    157\u001b[0m                      s=150,edgecolors='black',color='white')\n\u001b[0;32m    158\u001b[0m         plt.scatter([dt.strptime(x, \"%d/%m/%Y\") for x in A_Date.values],\n",
      "\u001b[1;31mTypeError\u001b[0m: y_inverse_scaler() takes 2 positional arguments but 3 were given"
     ]
    },
    {
     "data": {
      "text/plain": [
       "<Figure size 864x288 with 0 Axes>"
      ]
     },
     "metadata": {},
     "output_type": "display_data"
    }
   ],
   "source": [
    "df_gradiented = India_gradient.gradient_input('15/8/2021', ratio = 0.5, step = 1000, learning_rate = 5e-3)"
   ]
  },
  {
   "cell_type": "code",
   "execution_count": null,
   "metadata": {
    "ExecuteTime": {
     "end_time": "2021-10-27T08:38:52.080775Z",
     "start_time": "2021-10-27T08:38:51.606707Z"
    }
   },
   "outputs": [],
   "source": [
    "India_gradient.plot_guided_input()"
   ]
  },
  {
   "cell_type": "code",
   "execution_count": null,
   "metadata": {},
   "outputs": [],
   "source": []
  }
 ],
 "metadata": {
  "kernelspec": {
   "display_name": "Python 3 (ipykernel)",
   "language": "python",
   "name": "python3"
  },
  "language_info": {
   "codemirror_mode": {
    "name": "ipython",
    "version": 3
   },
   "file_extension": ".py",
   "mimetype": "text/x-python",
   "name": "python",
   "nbconvert_exporter": "python",
   "pygments_lexer": "ipython3",
   "version": "3.9.7"
  },
  "toc": {
   "base_numbering": 1,
   "nav_menu": {},
   "number_sections": true,
   "sideBar": true,
   "skip_h1_title": false,
   "title_cell": "Table of Contents",
   "title_sidebar": "Contents",
   "toc_cell": false,
   "toc_position": {},
   "toc_section_display": true,
   "toc_window_display": true
  },
  "varInspector": {
   "cols": {
    "lenName": 16,
    "lenType": 16,
    "lenVar": 40
   },
   "kernels_config": {
    "python": {
     "delete_cmd_postfix": "",
     "delete_cmd_prefix": "del ",
     "library": "var_list.py",
     "varRefreshCmd": "print(var_dic_list())"
    },
    "r": {
     "delete_cmd_postfix": ") ",
     "delete_cmd_prefix": "rm(",
     "library": "var_list.r",
     "varRefreshCmd": "cat(var_dic_list()) "
    }
   },
   "types_to_exclude": [
    "module",
    "function",
    "builtin_function_or_method",
    "instance",
    "_Feature"
   ],
   "window_display": false
  }
 },
 "nbformat": 4,
 "nbformat_minor": 4
}
