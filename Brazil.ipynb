{
 "cells": [
  {
   "cell_type": "code",
   "execution_count": 1,
   "metadata": {},
   "outputs": [
    {
     "name": "stdout",
     "output_type": "stream",
     "text": [
      "importing Jupyter notebook from Model_dev.ipynb\n"
     ]
    }
   ],
   "source": [
    "import os\n",
    "import pandas as pd\n",
    "import numpy as np\n",
    "import tensorflow as tf\n",
    "from tensorflow import keras\n",
    "import matplotlib.pyplot as plt\n",
    "from tensorflow.keras import models, optimizers\n",
    "from keras.callbacks import EarlyStopping, ReduceLROnPlateau\n",
    "from datetime import datetime as dt\n",
    "from sklearn.model_selection import KFold\n",
    "import import_ipynb\n",
    "from Model_dev import compress_to_2d, get_model, LSTM_model, Attention, C_LSTM, data_handling, model_development, rmse, draw_graph\n",
    "import copy"
   ]
  },
  {
   "cell_type": "code",
   "execution_count": 2,
   "metadata": {},
   "outputs": [],
   "source": [
    "country = 'Brazil'\n",
    "datadir = os.path.join(os.getcwd(), \"Data\")\n",
    "modeldir = os.path.join(os.getcwd(), \"Models\")\n",
    "logdir = os.path.join(os.getcwd(), \"Log\")\n",
    "filename = \"Full_{}.csv\".format(country)\n",
    "filepath = os.path.join(datadir, filename)\n",
    "social_media = ['like_index','retweet_index']\n",
    "covid_cases = ['ConfirmedCases', 'ConfirmedDeaths', 'Daily_cases']\n",
    "general_info = ['CountryCode_x', 'CountryName_x', 'Jurisdiction', 'Date']\n",
    "num_variable = ['E3_Fiscal measures', 'E4_International support', 'H5_Investment in vaccines', 'H4_Emergency investment in healthcare']\n",
    "required_days = 14\n",
    "pred_days = 7"
   ]
  },
  {
   "cell_type": "code",
   "execution_count": 3,
   "metadata": {},
   "outputs": [],
   "source": [
    "from numpy.random import seed\n",
    "seed(1234)\n",
    "from tensorflow.random import set_seed\n",
    "set_seed(1234)"
   ]
  },
  {
   "cell_type": "code",
   "execution_count": 4,
   "metadata": {},
   "outputs": [],
   "source": [
    "if not os.path.isdir(modeldir):\n",
    "    os.mkdir(modeldir)\n",
    "if not os.path.isdir(logdir):\n",
    "    os.mkdir(logdir)\n",
    "if not os.path.isdir(datadir):\n",
    "    os.mkdir(datadir)\n",
    "if not os.path.isdir(os.path.join(logdir, country)):\n",
    "    os.mkdir(os.path.join(logdir, country))"
   ]
  },
  {
   "cell_type": "code",
   "execution_count": 5,
   "metadata": {},
   "outputs": [],
   "source": [
    "df = pd.read_csv(filepath, index_col=0)\n",
    "df.set_index('Date', inplace=True)\n",
    "\n",
    "policy = []\n",
    "columns = df.columns\n",
    "for column in columns:\n",
    "    if not any(column in _list for _list in [social_media, general_info, covid_cases]):\n",
    "        policy.append(column)\n",
    "categorical_variable = list(set(policy) - set(num_variable))\n",
    "df[categorical_variable] = df[categorical_variable].astype(\"category\")"
   ]
  },
  {
   "cell_type": "code",
   "execution_count": null,
   "metadata": {},
   "outputs": [
    {
     "name": "stdout",
     "output_type": "stream",
     "text": [
      "##### Reshape and MinMaxScale input #####\n",
      "(529, 14, 3) (529, 7, 1) (59, 14, 3) (59, 7, 1)\n",
      "##### Model Development #####\n",
      "Model: \"sequential\"\n",
      "_________________________________________________________________\n",
      "Layer (type)                 Output Shape              Param #   \n",
      "=================================================================\n",
      "lstm (LSTM)                  (None, 32)                4608      \n",
      "_________________________________________________________________\n",
      "dense (Dense)                (None, 32)                1056      \n",
      "_________________________________________________________________\n",
      "dense_1 (Dense)              (None, 7)                 231       \n",
      "_________________________________________________________________\n",
      "reshape (Reshape)            (None, 7, 1)              0         \n",
      "=================================================================\n",
      "Total params: 5,895\n",
      "Trainable params: 5,895\n",
      "Non-trainable params: 0\n",
      "_________________________________________________________________\n",
      "Model: \"model\"\n",
      "__________________________________________________________________________________________________\n",
      "Layer (type)                    Output Shape         Param #     Connected to                     \n",
      "==================================================================================================\n",
      "input_2 (InputLayer)            [(None, 14, 3)]      0                                            \n",
      "__________________________________________________________________________________________________\n",
      "lstm_1 (LSTM)                   [(None, 14, 32), (No 4608        input_2[0][0]                    \n",
      "__________________________________________________________________________________________________\n",
      "multi_head_attention (MultiHead ((None, 14, 32), (No 58720       lstm_1[0][0]                     \n",
      "                                                                 lstm_1[0][0]                     \n",
      "__________________________________________________________________________________________________\n",
      "lstm_2 (LSTM)                   (None, 32)           8320        multi_head_attention[0][0]       \n",
      "                                                                 lstm_1[0][1]                     \n",
      "                                                                 lstm_1[0][2]                     \n",
      "__________________________________________________________________________________________________\n",
      "dense_2 (Dense)                 (None, 32)           1056        lstm_2[0][0]                     \n",
      "__________________________________________________________________________________________________\n",
      "dense_3 (Dense)                 (None, 7)            231         dense_2[0][0]                    \n",
      "__________________________________________________________________________________________________\n",
      "reshape_1 (Reshape)             (None, 7, 1)         0           dense_3[0][0]                    \n",
      "==================================================================================================\n",
      "Total params: 72,935\n",
      "Trainable params: 72,935\n",
      "Non-trainable params: 0\n",
      "__________________________________________________________________________________________________\n",
      "Model: \"sequential_1\"\n",
      "_________________________________________________________________\n",
      "Layer (type)                 Output Shape              Param #   \n",
      "=================================================================\n",
      "conv1d (Conv1D)              (None, 14, 32)            320       \n",
      "_________________________________________________________________\n",
      "conv1d_1 (Conv1D)            (None, 14, 64)            6208      \n",
      "_________________________________________________________________\n",
      "max_pooling1d (MaxPooling1D) (None, 7, 64)             0         \n",
      "_________________________________________________________________\n",
      "lstm_3 (LSTM)                (None, 7, 32)             12416     \n",
      "_________________________________________________________________\n",
      "lstm_4 (LSTM)                (None, 64)                24832     \n",
      "_________________________________________________________________\n",
      "dense_4 (Dense)              (None, 64)                4160      \n",
      "_________________________________________________________________\n",
      "dense_5 (Dense)              (None, 7)                 455       \n",
      "_________________________________________________________________\n",
      "reshape_2 (Reshape)          (None, 7, 1)              0         \n",
      "=================================================================\n",
      "Total params: 48,391\n",
      "Trainable params: 48,391\n",
      "Non-trainable params: 0\n",
      "_________________________________________________________________\n",
      "##### Results #####\n",
      "##### Logging the metadata #####\n",
      "INFO:tensorflow:Assets written to: C:\\Users\\wasin\\Downloads\\Work\\PG(HKU)\\FYP\\Program_Data\\Models\\20211103 04-27LSTM\\assets\n"
     ]
    },
    {
     "name": "stderr",
     "output_type": "stream",
     "text": [
      "WARNING:absl:Found untraced functions such as query_layer_call_and_return_conditional_losses, query_layer_call_fn, key_layer_call_and_return_conditional_losses, key_layer_call_fn, value_layer_call_and_return_conditional_losses while saving (showing 5 of 30). These functions will not be directly callable after loading.\n"
     ]
    },
    {
     "name": "stdout",
     "output_type": "stream",
     "text": [
      "INFO:tensorflow:Assets written to: C:\\Users\\wasin\\Downloads\\Work\\PG(HKU)\\FYP\\Program_Data\\Models\\20211103 04-27Attention\\assets\n"
     ]
    },
    {
     "name": "stderr",
     "output_type": "stream",
     "text": [
      "INFO:tensorflow:Assets written to: C:\\Users\\wasin\\Downloads\\Work\\PG(HKU)\\FYP\\Program_Data\\Models\\20211103 04-27Attention\\assets\n"
     ]
    },
    {
     "name": "stdout",
     "output_type": "stream",
     "text": [
      "INFO:tensorflow:Assets written to: C:\\Users\\wasin\\Downloads\\Work\\PG(HKU)\\FYP\\Program_Data\\Models\\20211103 04-27C-LSTM\\assets\n"
     ]
    },
    {
     "name": "stderr",
     "output_type": "stream",
     "text": [
      "INFO:tensorflow:Assets written to: C:\\Users\\wasin\\Downloads\\Work\\PG(HKU)\\FYP\\Program_Data\\Models\\20211103 04-27C-LSTM\\assets\n"
     ]
    },
    {
     "name": "stdout",
     "output_type": "stream",
     "text": [
      "##### Log completed #####\n",
      "##### Reshape and MinMaxScale input #####\n",
      "(529, 14, 3) (529, 7, 1) (59, 14, 3) (59, 7, 1)\n",
      "##### Model Development #####\n",
      "Model: \"sequential_2\"\n",
      "_________________________________________________________________\n",
      "Layer (type)                 Output Shape              Param #   \n",
      "=================================================================\n",
      "lstm_5 (LSTM)                (None, 32)                4608      \n",
      "_________________________________________________________________\n",
      "dense_6 (Dense)              (None, 32)                1056      \n",
      "_________________________________________________________________\n",
      "dense_7 (Dense)              (None, 7)                 231       \n",
      "_________________________________________________________________\n",
      "reshape_3 (Reshape)          (None, 7, 1)              0         \n",
      "=================================================================\n",
      "Total params: 5,895\n",
      "Trainable params: 5,895\n",
      "Non-trainable params: 0\n",
      "_________________________________________________________________\n",
      "Model: \"model_1\"\n",
      "__________________________________________________________________________________________________\n",
      "Layer (type)                    Output Shape         Param #     Connected to                     \n",
      "==================================================================================================\n",
      "input_4 (InputLayer)            [(None, 14, 3)]      0                                            \n",
      "__________________________________________________________________________________________________\n",
      "lstm_6 (LSTM)                   [(None, 14, 32), (No 4608        input_4[0][0]                    \n",
      "__________________________________________________________________________________________________\n",
      "multi_head_attention_1 (MultiHe ((None, 14, 32), (No 58720       lstm_6[0][0]                     \n",
      "                                                                 lstm_6[0][0]                     \n",
      "__________________________________________________________________________________________________\n",
      "lstm_7 (LSTM)                   (None, 32)           8320        multi_head_attention_1[0][0]     \n",
      "                                                                 lstm_6[0][1]                     \n",
      "                                                                 lstm_6[0][2]                     \n",
      "__________________________________________________________________________________________________\n",
      "dense_8 (Dense)                 (None, 32)           1056        lstm_7[0][0]                     \n",
      "__________________________________________________________________________________________________\n",
      "dense_9 (Dense)                 (None, 7)            231         dense_8[0][0]                    \n",
      "__________________________________________________________________________________________________\n",
      "reshape_4 (Reshape)             (None, 7, 1)         0           dense_9[0][0]                    \n",
      "==================================================================================================\n",
      "Total params: 72,935\n",
      "Trainable params: 72,935\n",
      "Non-trainable params: 0\n",
      "__________________________________________________________________________________________________\n",
      "Model: \"sequential_3\"\n",
      "_________________________________________________________________\n",
      "Layer (type)                 Output Shape              Param #   \n",
      "=================================================================\n",
      "conv1d_2 (Conv1D)            (None, 14, 32)            320       \n",
      "_________________________________________________________________\n",
      "conv1d_3 (Conv1D)            (None, 14, 64)            6208      \n",
      "_________________________________________________________________\n",
      "max_pooling1d_1 (MaxPooling1 (None, 7, 64)             0         \n",
      "_________________________________________________________________\n",
      "lstm_8 (LSTM)                (None, 7, 32)             12416     \n",
      "_________________________________________________________________\n",
      "lstm_9 (LSTM)                (None, 64)                24832     \n",
      "_________________________________________________________________\n",
      "dense_10 (Dense)             (None, 64)                4160      \n",
      "_________________________________________________________________\n",
      "dense_11 (Dense)             (None, 7)                 455       \n",
      "_________________________________________________________________\n",
      "reshape_5 (Reshape)          (None, 7, 1)              0         \n",
      "=================================================================\n",
      "Total params: 48,391\n",
      "Trainable params: 48,391\n",
      "Non-trainable params: 0\n",
      "_________________________________________________________________\n",
      "##### Results #####\n",
      "##### Logging the metadata #####\n",
      "INFO:tensorflow:Assets written to: C:\\Users\\wasin\\Downloads\\Work\\PG(HKU)\\FYP\\Program_Data\\Models\\20211103 05-18LSTM\\assets\n"
     ]
    },
    {
     "name": "stderr",
     "output_type": "stream",
     "text": [
      "INFO:tensorflow:Assets written to: C:\\Users\\wasin\\Downloads\\Work\\PG(HKU)\\FYP\\Program_Data\\Models\\20211103 05-18LSTM\\assets\n",
      "WARNING:absl:Found untraced functions such as query_layer_call_and_return_conditional_losses, query_layer_call_fn, key_layer_call_and_return_conditional_losses, key_layer_call_fn, value_layer_call_and_return_conditional_losses while saving (showing 5 of 30). These functions will not be directly callable after loading.\n"
     ]
    },
    {
     "name": "stdout",
     "output_type": "stream",
     "text": [
      "INFO:tensorflow:Assets written to: C:\\Users\\wasin\\Downloads\\Work\\PG(HKU)\\FYP\\Program_Data\\Models\\20211103 05-18Attention\\assets\n"
     ]
    },
    {
     "name": "stderr",
     "output_type": "stream",
     "text": [
      "INFO:tensorflow:Assets written to: C:\\Users\\wasin\\Downloads\\Work\\PG(HKU)\\FYP\\Program_Data\\Models\\20211103 05-18Attention\\assets\n"
     ]
    },
    {
     "name": "stdout",
     "output_type": "stream",
     "text": [
      "INFO:tensorflow:Assets written to: C:\\Users\\wasin\\Downloads\\Work\\PG(HKU)\\FYP\\Program_Data\\Models\\20211103 05-18C-LSTM\\assets\n"
     ]
    },
    {
     "name": "stderr",
     "output_type": "stream",
     "text": [
      "INFO:tensorflow:Assets written to: C:\\Users\\wasin\\Downloads\\Work\\PG(HKU)\\FYP\\Program_Data\\Models\\20211103 05-18C-LSTM\\assets\n"
     ]
    },
    {
     "name": "stdout",
     "output_type": "stream",
     "text": [
      "##### Log completed #####\n",
      "##### Reshape and MinMaxScale input #####\n",
      "(529, 14, 3) (529, 7, 1) (59, 14, 3) (59, 7, 1)\n",
      "##### Model Development #####\n",
      "Model: \"sequential_4\"\n",
      "_________________________________________________________________\n",
      "Layer (type)                 Output Shape              Param #   \n",
      "=================================================================\n",
      "lstm_10 (LSTM)               (None, 32)                4608      \n",
      "_________________________________________________________________\n",
      "dense_12 (Dense)             (None, 32)                1056      \n",
      "_________________________________________________________________\n",
      "dense_13 (Dense)             (None, 7)                 231       \n",
      "_________________________________________________________________\n",
      "reshape_6 (Reshape)          (None, 7, 1)              0         \n",
      "=================================================================\n",
      "Total params: 5,895\n",
      "Trainable params: 5,895\n",
      "Non-trainable params: 0\n",
      "_________________________________________________________________\n",
      "Model: \"model_2\"\n",
      "__________________________________________________________________________________________________\n",
      "Layer (type)                    Output Shape         Param #     Connected to                     \n",
      "==================================================================================================\n",
      "input_6 (InputLayer)            [(None, 14, 3)]      0                                            \n",
      "__________________________________________________________________________________________________\n",
      "lstm_11 (LSTM)                  [(None, 14, 32), (No 4608        input_6[0][0]                    \n",
      "__________________________________________________________________________________________________\n",
      "multi_head_attention_2 (MultiHe ((None, 14, 32), (No 58720       lstm_11[0][0]                    \n",
      "                                                                 lstm_11[0][0]                    \n",
      "__________________________________________________________________________________________________\n",
      "lstm_12 (LSTM)                  (None, 32)           8320        multi_head_attention_2[0][0]     \n",
      "                                                                 lstm_11[0][1]                    \n",
      "                                                                 lstm_11[0][2]                    \n",
      "__________________________________________________________________________________________________\n",
      "dense_14 (Dense)                (None, 32)           1056        lstm_12[0][0]                    \n",
      "__________________________________________________________________________________________________\n",
      "dense_15 (Dense)                (None, 7)            231         dense_14[0][0]                   \n",
      "__________________________________________________________________________________________________\n",
      "reshape_7 (Reshape)             (None, 7, 1)         0           dense_15[0][0]                   \n",
      "==================================================================================================\n",
      "Total params: 72,935\n",
      "Trainable params: 72,935\n",
      "Non-trainable params: 0\n",
      "__________________________________________________________________________________________________\n",
      "Model: \"sequential_5\"\n",
      "_________________________________________________________________\n",
      "Layer (type)                 Output Shape              Param #   \n",
      "=================================================================\n",
      "conv1d_4 (Conv1D)            (None, 14, 32)            320       \n",
      "_________________________________________________________________\n",
      "conv1d_5 (Conv1D)            (None, 14, 64)            6208      \n",
      "_________________________________________________________________\n",
      "max_pooling1d_2 (MaxPooling1 (None, 7, 64)             0         \n",
      "_________________________________________________________________\n",
      "lstm_13 (LSTM)               (None, 7, 32)             12416     \n",
      "_________________________________________________________________\n",
      "lstm_14 (LSTM)               (None, 64)                24832     \n",
      "_________________________________________________________________\n",
      "dense_16 (Dense)             (None, 64)                4160      \n",
      "_________________________________________________________________\n",
      "dense_17 (Dense)             (None, 7)                 455       \n",
      "_________________________________________________________________\n",
      "reshape_8 (Reshape)          (None, 7, 1)              0         \n",
      "=================================================================\n",
      "Total params: 48,391\n",
      "Trainable params: 48,391\n",
      "Non-trainable params: 0\n",
      "_________________________________________________________________\n",
      "##### Results #####\n",
      "##### Logging the metadata #####\n",
      "INFO:tensorflow:Assets written to: C:\\Users\\wasin\\Downloads\\Work\\PG(HKU)\\FYP\\Program_Data\\Models\\20211103 06-05LSTM\\assets\n"
     ]
    },
    {
     "name": "stderr",
     "output_type": "stream",
     "text": [
      "INFO:tensorflow:Assets written to: C:\\Users\\wasin\\Downloads\\Work\\PG(HKU)\\FYP\\Program_Data\\Models\\20211103 06-05LSTM\\assets\n",
      "WARNING:absl:Found untraced functions such as query_layer_call_and_return_conditional_losses, query_layer_call_fn, key_layer_call_and_return_conditional_losses, key_layer_call_fn, value_layer_call_and_return_conditional_losses while saving (showing 5 of 30). These functions will not be directly callable after loading.\n"
     ]
    },
    {
     "name": "stdout",
     "output_type": "stream",
     "text": [
      "INFO:tensorflow:Assets written to: C:\\Users\\wasin\\Downloads\\Work\\PG(HKU)\\FYP\\Program_Data\\Models\\20211103 06-05Attention\\assets\n"
     ]
    },
    {
     "name": "stderr",
     "output_type": "stream",
     "text": [
      "INFO:tensorflow:Assets written to: C:\\Users\\wasin\\Downloads\\Work\\PG(HKU)\\FYP\\Program_Data\\Models\\20211103 06-05Attention\\assets\n"
     ]
    },
    {
     "name": "stdout",
     "output_type": "stream",
     "text": [
      "INFO:tensorflow:Assets written to: C:\\Users\\wasin\\Downloads\\Work\\PG(HKU)\\FYP\\Program_Data\\Models\\20211103 06-05C-LSTM\\assets\n"
     ]
    },
    {
     "name": "stderr",
     "output_type": "stream",
     "text": [
      "INFO:tensorflow:Assets written to: C:\\Users\\wasin\\Downloads\\Work\\PG(HKU)\\FYP\\Program_Data\\Models\\20211103 06-05C-LSTM\\assets\n"
     ]
    },
    {
     "name": "stdout",
     "output_type": "stream",
     "text": [
      "##### Log completed #####\n",
      "##### Reshape and MinMaxScale input #####\n",
      "(529, 14, 3) (529, 7, 1) (59, 14, 3) (59, 7, 1)\n",
      "##### Model Development #####\n",
      "Model: \"sequential_6\"\n",
      "_________________________________________________________________\n",
      "Layer (type)                 Output Shape              Param #   \n",
      "=================================================================\n",
      "lstm_15 (LSTM)               (None, 32)                4608      \n",
      "_________________________________________________________________\n",
      "dense_18 (Dense)             (None, 32)                1056      \n",
      "_________________________________________________________________\n",
      "dense_19 (Dense)             (None, 7)                 231       \n",
      "_________________________________________________________________\n",
      "reshape_9 (Reshape)          (None, 7, 1)              0         \n",
      "=================================================================\n",
      "Total params: 5,895\n",
      "Trainable params: 5,895\n",
      "Non-trainable params: 0\n",
      "_________________________________________________________________\n",
      "Model: \"model_3\"\n",
      "__________________________________________________________________________________________________\n",
      "Layer (type)                    Output Shape         Param #     Connected to                     \n",
      "==================================================================================================\n",
      "input_8 (InputLayer)            [(None, 14, 3)]      0                                            \n",
      "__________________________________________________________________________________________________\n",
      "lstm_16 (LSTM)                  [(None, 14, 32), (No 4608        input_8[0][0]                    \n",
      "__________________________________________________________________________________________________\n",
      "multi_head_attention_3 (MultiHe ((None, 14, 32), (No 58720       lstm_16[0][0]                    \n",
      "                                                                 lstm_16[0][0]                    \n",
      "__________________________________________________________________________________________________\n",
      "lstm_17 (LSTM)                  (None, 32)           8320        multi_head_attention_3[0][0]     \n",
      "                                                                 lstm_16[0][1]                    \n",
      "                                                                 lstm_16[0][2]                    \n",
      "__________________________________________________________________________________________________\n",
      "dense_20 (Dense)                (None, 32)           1056        lstm_17[0][0]                    \n",
      "__________________________________________________________________________________________________\n",
      "dense_21 (Dense)                (None, 7)            231         dense_20[0][0]                   \n",
      "__________________________________________________________________________________________________\n",
      "reshape_10 (Reshape)            (None, 7, 1)         0           dense_21[0][0]                   \n",
      "==================================================================================================\n",
      "Total params: 72,935\n",
      "Trainable params: 72,935\n",
      "Non-trainable params: 0\n",
      "__________________________________________________________________________________________________\n",
      "Model: \"sequential_7\"\n",
      "_________________________________________________________________\n",
      "Layer (type)                 Output Shape              Param #   \n",
      "=================================================================\n",
      "conv1d_6 (Conv1D)            (None, 14, 32)            320       \n",
      "_________________________________________________________________\n",
      "conv1d_7 (Conv1D)            (None, 14, 64)            6208      \n",
      "_________________________________________________________________\n",
      "max_pooling1d_3 (MaxPooling1 (None, 7, 64)             0         \n",
      "_________________________________________________________________\n",
      "lstm_18 (LSTM)               (None, 7, 32)             12416     \n",
      "_________________________________________________________________\n",
      "lstm_19 (LSTM)               (None, 64)                24832     \n",
      "_________________________________________________________________\n",
      "dense_22 (Dense)             (None, 64)                4160      \n",
      "_________________________________________________________________\n",
      "dense_23 (Dense)             (None, 7)                 455       \n",
      "_________________________________________________________________\n",
      "reshape_11 (Reshape)         (None, 7, 1)              0         \n",
      "=================================================================\n",
      "Total params: 48,391\n",
      "Trainable params: 48,391\n",
      "Non-trainable params: 0\n",
      "_________________________________________________________________\n"
     ]
    },
    {
     "name": "stderr",
     "output_type": "stream",
     "text": [
      "<string>:31: RuntimeWarning: More than 20 figures have been opened. Figures created through the pyplot interface (`matplotlib.pyplot.figure`) are retained until explicitly closed and may consume too much memory. (To control this warning, see the rcParam `figure.max_open_warning`).\n"
     ]
    },
    {
     "name": "stdout",
     "output_type": "stream",
     "text": [
      "##### Results #####\n",
      "##### Logging the metadata #####\n",
      "INFO:tensorflow:Assets written to: C:\\Users\\wasin\\Downloads\\Work\\PG(HKU)\\FYP\\Program_Data\\Models\\20211103 06-48LSTM\\assets\n"
     ]
    },
    {
     "name": "stderr",
     "output_type": "stream",
     "text": [
      "INFO:tensorflow:Assets written to: C:\\Users\\wasin\\Downloads\\Work\\PG(HKU)\\FYP\\Program_Data\\Models\\20211103 06-48LSTM\\assets\n",
      "WARNING:absl:Found untraced functions such as query_layer_call_and_return_conditional_losses, query_layer_call_fn, key_layer_call_and_return_conditional_losses, key_layer_call_fn, value_layer_call_and_return_conditional_losses while saving (showing 5 of 30). These functions will not be directly callable after loading.\n"
     ]
    },
    {
     "name": "stdout",
     "output_type": "stream",
     "text": [
      "INFO:tensorflow:Assets written to: C:\\Users\\wasin\\Downloads\\Work\\PG(HKU)\\FYP\\Program_Data\\Models\\20211103 06-48Attention\\assets\n"
     ]
    },
    {
     "name": "stderr",
     "output_type": "stream",
     "text": [
      "INFO:tensorflow:Assets written to: C:\\Users\\wasin\\Downloads\\Work\\PG(HKU)\\FYP\\Program_Data\\Models\\20211103 06-48Attention\\assets\n"
     ]
    },
    {
     "name": "stdout",
     "output_type": "stream",
     "text": [
      "INFO:tensorflow:Assets written to: C:\\Users\\wasin\\Downloads\\Work\\PG(HKU)\\FYP\\Program_Data\\Models\\20211103 06-48C-LSTM\\assets\n"
     ]
    },
    {
     "name": "stderr",
     "output_type": "stream",
     "text": [
      "INFO:tensorflow:Assets written to: C:\\Users\\wasin\\Downloads\\Work\\PG(HKU)\\FYP\\Program_Data\\Models\\20211103 06-48C-LSTM\\assets\n"
     ]
    },
    {
     "name": "stdout",
     "output_type": "stream",
     "text": [
      "##### Log completed #####\n",
      "##### Reshape and MinMaxScale input #####\n",
      "(529, 14, 3) (529, 7, 1) (59, 14, 3) (59, 7, 1)\n",
      "##### Model Development #####\n",
      "Model: \"sequential_8\"\n",
      "_________________________________________________________________\n",
      "Layer (type)                 Output Shape              Param #   \n",
      "=================================================================\n",
      "lstm_20 (LSTM)               (None, 32)                4608      \n",
      "_________________________________________________________________\n",
      "dense_24 (Dense)             (None, 32)                1056      \n",
      "_________________________________________________________________\n",
      "dense_25 (Dense)             (None, 7)                 231       \n",
      "_________________________________________________________________\n",
      "reshape_12 (Reshape)         (None, 7, 1)              0         \n",
      "=================================================================\n",
      "Total params: 5,895\n",
      "Trainable params: 5,895\n",
      "Non-trainable params: 0\n",
      "_________________________________________________________________\n",
      "Model: \"model_4\"\n",
      "__________________________________________________________________________________________________\n",
      "Layer (type)                    Output Shape         Param #     Connected to                     \n",
      "==================================================================================================\n",
      "input_10 (InputLayer)           [(None, 14, 3)]      0                                            \n",
      "__________________________________________________________________________________________________\n",
      "lstm_21 (LSTM)                  [(None, 14, 32), (No 4608        input_10[0][0]                   \n",
      "__________________________________________________________________________________________________\n",
      "multi_head_attention_4 (MultiHe ((None, 14, 32), (No 58720       lstm_21[0][0]                    \n",
      "                                                                 lstm_21[0][0]                    \n",
      "__________________________________________________________________________________________________\n",
      "lstm_22 (LSTM)                  (None, 32)           8320        multi_head_attention_4[0][0]     \n",
      "                                                                 lstm_21[0][1]                    \n",
      "                                                                 lstm_21[0][2]                    \n",
      "__________________________________________________________________________________________________\n",
      "dense_26 (Dense)                (None, 32)           1056        lstm_22[0][0]                    \n",
      "__________________________________________________________________________________________________\n",
      "dense_27 (Dense)                (None, 7)            231         dense_26[0][0]                   \n",
      "__________________________________________________________________________________________________\n",
      "reshape_13 (Reshape)            (None, 7, 1)         0           dense_27[0][0]                   \n",
      "==================================================================================================\n",
      "Total params: 72,935\n",
      "Trainable params: 72,935\n",
      "Non-trainable params: 0\n",
      "__________________________________________________________________________________________________\n",
      "Model: \"sequential_9\"\n",
      "_________________________________________________________________\n",
      "Layer (type)                 Output Shape              Param #   \n",
      "=================================================================\n",
      "conv1d_8 (Conv1D)            (None, 14, 32)            320       \n",
      "_________________________________________________________________\n",
      "conv1d_9 (Conv1D)            (None, 14, 64)            6208      \n",
      "_________________________________________________________________\n",
      "max_pooling1d_4 (MaxPooling1 (None, 7, 64)             0         \n",
      "_________________________________________________________________\n",
      "lstm_23 (LSTM)               (None, 7, 32)             12416     \n",
      "_________________________________________________________________\n",
      "lstm_24 (LSTM)               (None, 64)                24832     \n",
      "_________________________________________________________________\n",
      "dense_28 (Dense)             (None, 64)                4160      \n",
      "_________________________________________________________________\n",
      "dense_29 (Dense)             (None, 7)                 455       \n",
      "_________________________________________________________________\n",
      "reshape_14 (Reshape)         (None, 7, 1)              0         \n",
      "=================================================================\n",
      "Total params: 48,391\n",
      "Trainable params: 48,391\n",
      "Non-trainable params: 0\n",
      "_________________________________________________________________\n",
      "##### Results #####\n",
      "##### Logging the metadata #####\n",
      "INFO:tensorflow:Assets written to: C:\\Users\\wasin\\Downloads\\Work\\PG(HKU)\\FYP\\Program_Data\\Models\\20211103 07-34LSTM\\assets\n"
     ]
    },
    {
     "name": "stderr",
     "output_type": "stream",
     "text": [
      "INFO:tensorflow:Assets written to: C:\\Users\\wasin\\Downloads\\Work\\PG(HKU)\\FYP\\Program_Data\\Models\\20211103 07-34LSTM\\assets\n",
      "WARNING:absl:Found untraced functions such as query_layer_call_and_return_conditional_losses, query_layer_call_fn, key_layer_call_and_return_conditional_losses, key_layer_call_fn, value_layer_call_and_return_conditional_losses while saving (showing 5 of 30). These functions will not be directly callable after loading.\n"
     ]
    },
    {
     "name": "stdout",
     "output_type": "stream",
     "text": [
      "INFO:tensorflow:Assets written to: C:\\Users\\wasin\\Downloads\\Work\\PG(HKU)\\FYP\\Program_Data\\Models\\20211103 07-34Attention\\assets\n"
     ]
    },
    {
     "name": "stderr",
     "output_type": "stream",
     "text": [
      "INFO:tensorflow:Assets written to: C:\\Users\\wasin\\Downloads\\Work\\PG(HKU)\\FYP\\Program_Data\\Models\\20211103 07-34Attention\\assets\n"
     ]
    },
    {
     "name": "stdout",
     "output_type": "stream",
     "text": [
      "INFO:tensorflow:Assets written to: C:\\Users\\wasin\\Downloads\\Work\\PG(HKU)\\FYP\\Program_Data\\Models\\20211103 07-34C-LSTM\\assets\n"
     ]
    },
    {
     "name": "stderr",
     "output_type": "stream",
     "text": [
      "INFO:tensorflow:Assets written to: C:\\Users\\wasin\\Downloads\\Work\\PG(HKU)\\FYP\\Program_Data\\Models\\20211103 07-34C-LSTM\\assets\n"
     ]
    },
    {
     "name": "stdout",
     "output_type": "stream",
     "text": [
      "##### Log completed #####\n",
      "##### Reshape and MinMaxScale input #####\n",
      "(529, 14, 3) (529, 7, 1) (59, 14, 3) (59, 7, 1)\n",
      "##### Model Development #####\n",
      "Model: \"sequential_10\"\n",
      "_________________________________________________________________\n",
      "Layer (type)                 Output Shape              Param #   \n",
      "=================================================================\n",
      "lstm_25 (LSTM)               (None, 32)                4608      \n",
      "_________________________________________________________________\n",
      "dense_30 (Dense)             (None, 32)                1056      \n",
      "_________________________________________________________________\n",
      "dense_31 (Dense)             (None, 7)                 231       \n",
      "_________________________________________________________________\n",
      "reshape_15 (Reshape)         (None, 7, 1)              0         \n",
      "=================================================================\n",
      "Total params: 5,895\n",
      "Trainable params: 5,895\n",
      "Non-trainable params: 0\n",
      "_________________________________________________________________\n",
      "Model: \"model_5\"\n",
      "__________________________________________________________________________________________________\n",
      "Layer (type)                    Output Shape         Param #     Connected to                     \n",
      "==================================================================================================\n",
      "input_12 (InputLayer)           [(None, 14, 3)]      0                                            \n",
      "__________________________________________________________________________________________________\n",
      "lstm_26 (LSTM)                  [(None, 14, 32), (No 4608        input_12[0][0]                   \n",
      "__________________________________________________________________________________________________\n",
      "multi_head_attention_5 (MultiHe ((None, 14, 32), (No 58720       lstm_26[0][0]                    \n",
      "                                                                 lstm_26[0][0]                    \n",
      "__________________________________________________________________________________________________\n",
      "lstm_27 (LSTM)                  (None, 32)           8320        multi_head_attention_5[0][0]     \n",
      "                                                                 lstm_26[0][1]                    \n",
      "                                                                 lstm_26[0][2]                    \n",
      "__________________________________________________________________________________________________\n",
      "dense_32 (Dense)                (None, 32)           1056        lstm_27[0][0]                    \n",
      "__________________________________________________________________________________________________\n",
      "dense_33 (Dense)                (None, 7)            231         dense_32[0][0]                   \n",
      "__________________________________________________________________________________________________\n",
      "reshape_16 (Reshape)            (None, 7, 1)         0           dense_33[0][0]                   \n",
      "==================================================================================================\n",
      "Total params: 72,935\n",
      "Trainable params: 72,935\n",
      "Non-trainable params: 0\n",
      "__________________________________________________________________________________________________\n",
      "Model: \"sequential_11\"\n",
      "_________________________________________________________________\n",
      "Layer (type)                 Output Shape              Param #   \n",
      "=================================================================\n",
      "conv1d_10 (Conv1D)           (None, 14, 32)            320       \n",
      "_________________________________________________________________\n",
      "conv1d_11 (Conv1D)           (None, 14, 64)            6208      \n",
      "_________________________________________________________________\n",
      "max_pooling1d_5 (MaxPooling1 (None, 7, 64)             0         \n",
      "_________________________________________________________________\n",
      "lstm_28 (LSTM)               (None, 7, 32)             12416     \n",
      "_________________________________________________________________\n",
      "lstm_29 (LSTM)               (None, 64)                24832     \n",
      "_________________________________________________________________\n",
      "dense_34 (Dense)             (None, 64)                4160      \n",
      "_________________________________________________________________\n",
      "dense_35 (Dense)             (None, 7)                 455       \n",
      "_________________________________________________________________\n",
      "reshape_17 (Reshape)         (None, 7, 1)              0         \n",
      "=================================================================\n",
      "Total params: 48,391\n",
      "Trainable params: 48,391\n",
      "Non-trainable params: 0\n",
      "_________________________________________________________________\n",
      "##### Results #####\n",
      "##### Logging the metadata #####\n",
      "INFO:tensorflow:Assets written to: C:\\Users\\wasin\\Downloads\\Work\\PG(HKU)\\FYP\\Program_Data\\Models\\20211103 08-17LSTM\\assets\n"
     ]
    },
    {
     "name": "stderr",
     "output_type": "stream",
     "text": [
      "INFO:tensorflow:Assets written to: C:\\Users\\wasin\\Downloads\\Work\\PG(HKU)\\FYP\\Program_Data\\Models\\20211103 08-17LSTM\\assets\n",
      "WARNING:absl:Found untraced functions such as query_layer_call_and_return_conditional_losses, query_layer_call_fn, key_layer_call_and_return_conditional_losses, key_layer_call_fn, value_layer_call_and_return_conditional_losses while saving (showing 5 of 30). These functions will not be directly callable after loading.\n"
     ]
    },
    {
     "name": "stdout",
     "output_type": "stream",
     "text": [
      "INFO:tensorflow:Assets written to: C:\\Users\\wasin\\Downloads\\Work\\PG(HKU)\\FYP\\Program_Data\\Models\\20211103 08-17Attention\\assets\n"
     ]
    },
    {
     "name": "stderr",
     "output_type": "stream",
     "text": [
      "INFO:tensorflow:Assets written to: C:\\Users\\wasin\\Downloads\\Work\\PG(HKU)\\FYP\\Program_Data\\Models\\20211103 08-17Attention\\assets\n"
     ]
    },
    {
     "name": "stdout",
     "output_type": "stream",
     "text": [
      "INFO:tensorflow:Assets written to: C:\\Users\\wasin\\Downloads\\Work\\PG(HKU)\\FYP\\Program_Data\\Models\\20211103 08-17C-LSTM\\assets\n"
     ]
    },
    {
     "name": "stderr",
     "output_type": "stream",
     "text": [
      "INFO:tensorflow:Assets written to: C:\\Users\\wasin\\Downloads\\Work\\PG(HKU)\\FYP\\Program_Data\\Models\\20211103 08-17C-LSTM\\assets\n"
     ]
    },
    {
     "name": "stdout",
     "output_type": "stream",
     "text": [
      "##### Log completed #####\n",
      "##### Reshape and MinMaxScale input #####\n",
      "(529, 14, 3) (529, 7, 1) (59, 14, 3) (59, 7, 1)\n",
      "##### Model Development #####\n",
      "Model: \"sequential_12\"\n",
      "_________________________________________________________________\n",
      "Layer (type)                 Output Shape              Param #   \n",
      "=================================================================\n",
      "lstm_30 (LSTM)               (None, 32)                4608      \n",
      "_________________________________________________________________\n",
      "dense_36 (Dense)             (None, 32)                1056      \n",
      "_________________________________________________________________\n",
      "dense_37 (Dense)             (None, 7)                 231       \n",
      "_________________________________________________________________\n",
      "reshape_18 (Reshape)         (None, 7, 1)              0         \n",
      "=================================================================\n",
      "Total params: 5,895\n",
      "Trainable params: 5,895\n",
      "Non-trainable params: 0\n",
      "_________________________________________________________________\n",
      "Model: \"model_6\"\n",
      "__________________________________________________________________________________________________\n",
      "Layer (type)                    Output Shape         Param #     Connected to                     \n",
      "==================================================================================================\n",
      "input_14 (InputLayer)           [(None, 14, 3)]      0                                            \n",
      "__________________________________________________________________________________________________\n",
      "lstm_31 (LSTM)                  [(None, 14, 32), (No 4608        input_14[0][0]                   \n",
      "__________________________________________________________________________________________________\n",
      "multi_head_attention_6 (MultiHe ((None, 14, 32), (No 58720       lstm_31[0][0]                    \n",
      "                                                                 lstm_31[0][0]                    \n",
      "__________________________________________________________________________________________________\n",
      "lstm_32 (LSTM)                  (None, 32)           8320        multi_head_attention_6[0][0]     \n",
      "                                                                 lstm_31[0][1]                    \n",
      "                                                                 lstm_31[0][2]                    \n",
      "__________________________________________________________________________________________________\n",
      "dense_38 (Dense)                (None, 32)           1056        lstm_32[0][0]                    \n",
      "__________________________________________________________________________________________________\n",
      "dense_39 (Dense)                (None, 7)            231         dense_38[0][0]                   \n",
      "__________________________________________________________________________________________________\n",
      "reshape_19 (Reshape)            (None, 7, 1)         0           dense_39[0][0]                   \n",
      "==================================================================================================\n",
      "Total params: 72,935\n",
      "Trainable params: 72,935\n",
      "Non-trainable params: 0\n",
      "__________________________________________________________________________________________________\n",
      "Model: \"sequential_13\"\n",
      "_________________________________________________________________\n",
      "Layer (type)                 Output Shape              Param #   \n",
      "=================================================================\n",
      "conv1d_12 (Conv1D)           (None, 14, 32)            320       \n",
      "_________________________________________________________________\n",
      "conv1d_13 (Conv1D)           (None, 14, 64)            6208      \n",
      "_________________________________________________________________\n",
      "max_pooling1d_6 (MaxPooling1 (None, 7, 64)             0         \n",
      "_________________________________________________________________\n",
      "lstm_33 (LSTM)               (None, 7, 32)             12416     \n",
      "_________________________________________________________________\n",
      "lstm_34 (LSTM)               (None, 64)                24832     \n",
      "_________________________________________________________________\n",
      "dense_40 (Dense)             (None, 64)                4160      \n",
      "_________________________________________________________________\n",
      "dense_41 (Dense)             (None, 7)                 455       \n",
      "_________________________________________________________________\n",
      "reshape_20 (Reshape)         (None, 7, 1)              0         \n",
      "=================================================================\n",
      "Total params: 48,391\n",
      "Trainable params: 48,391\n",
      "Non-trainable params: 0\n",
      "_________________________________________________________________\n",
      "##### Results #####\n",
      "##### Logging the metadata #####\n",
      "INFO:tensorflow:Assets written to: C:\\Users\\wasin\\Downloads\\Work\\PG(HKU)\\FYP\\Program_Data\\Models\\20211103 09-05LSTM\\assets\n"
     ]
    },
    {
     "name": "stderr",
     "output_type": "stream",
     "text": [
      "INFO:tensorflow:Assets written to: C:\\Users\\wasin\\Downloads\\Work\\PG(HKU)\\FYP\\Program_Data\\Models\\20211103 09-05LSTM\\assets\n",
      "WARNING:absl:Found untraced functions such as query_layer_call_and_return_conditional_losses, query_layer_call_fn, key_layer_call_and_return_conditional_losses, key_layer_call_fn, value_layer_call_and_return_conditional_losses while saving (showing 5 of 30). These functions will not be directly callable after loading.\n"
     ]
    },
    {
     "name": "stdout",
     "output_type": "stream",
     "text": [
      "INFO:tensorflow:Assets written to: C:\\Users\\wasin\\Downloads\\Work\\PG(HKU)\\FYP\\Program_Data\\Models\\20211103 09-05Attention\\assets\n"
     ]
    },
    {
     "name": "stderr",
     "output_type": "stream",
     "text": [
      "INFO:tensorflow:Assets written to: C:\\Users\\wasin\\Downloads\\Work\\PG(HKU)\\FYP\\Program_Data\\Models\\20211103 09-05Attention\\assets\n"
     ]
    },
    {
     "name": "stdout",
     "output_type": "stream",
     "text": [
      "INFO:tensorflow:Assets written to: C:\\Users\\wasin\\Downloads\\Work\\PG(HKU)\\FYP\\Program_Data\\Models\\20211103 09-05C-LSTM\\assets\n"
     ]
    },
    {
     "name": "stderr",
     "output_type": "stream",
     "text": [
      "INFO:tensorflow:Assets written to: C:\\Users\\wasin\\Downloads\\Work\\PG(HKU)\\FYP\\Program_Data\\Models\\20211103 09-05C-LSTM\\assets\n"
     ]
    },
    {
     "name": "stdout",
     "output_type": "stream",
     "text": [
      "##### Log completed #####\n",
      "##### Reshape and MinMaxScale input #####\n",
      "(529, 14, 3) (529, 7, 1) (59, 14, 3) (59, 7, 1)\n",
      "##### Model Development #####\n",
      "Model: \"sequential_14\"\n",
      "_________________________________________________________________\n",
      "Layer (type)                 Output Shape              Param #   \n",
      "=================================================================\n",
      "lstm_35 (LSTM)               (None, 32)                4608      \n",
      "_________________________________________________________________\n",
      "dense_42 (Dense)             (None, 32)                1056      \n",
      "_________________________________________________________________\n",
      "dense_43 (Dense)             (None, 7)                 231       \n",
      "_________________________________________________________________\n",
      "reshape_21 (Reshape)         (None, 7, 1)              0         \n",
      "=================================================================\n",
      "Total params: 5,895\n",
      "Trainable params: 5,895\n",
      "Non-trainable params: 0\n",
      "_________________________________________________________________\n",
      "Model: \"model_7\"\n",
      "__________________________________________________________________________________________________\n",
      "Layer (type)                    Output Shape         Param #     Connected to                     \n",
      "==================================================================================================\n",
      "input_16 (InputLayer)           [(None, 14, 3)]      0                                            \n",
      "__________________________________________________________________________________________________\n",
      "lstm_36 (LSTM)                  [(None, 14, 32), (No 4608        input_16[0][0]                   \n",
      "__________________________________________________________________________________________________\n",
      "multi_head_attention_7 (MultiHe ((None, 14, 32), (No 58720       lstm_36[0][0]                    \n",
      "                                                                 lstm_36[0][0]                    \n",
      "__________________________________________________________________________________________________\n",
      "lstm_37 (LSTM)                  (None, 32)           8320        multi_head_attention_7[0][0]     \n",
      "                                                                 lstm_36[0][1]                    \n",
      "                                                                 lstm_36[0][2]                    \n",
      "__________________________________________________________________________________________________\n",
      "dense_44 (Dense)                (None, 32)           1056        lstm_37[0][0]                    \n",
      "__________________________________________________________________________________________________\n",
      "dense_45 (Dense)                (None, 7)            231         dense_44[0][0]                   \n",
      "__________________________________________________________________________________________________\n",
      "reshape_22 (Reshape)            (None, 7, 1)         0           dense_45[0][0]                   \n",
      "==================================================================================================\n",
      "Total params: 72,935\n",
      "Trainable params: 72,935\n",
      "Non-trainable params: 0\n",
      "__________________________________________________________________________________________________\n",
      "Model: \"sequential_15\"\n",
      "_________________________________________________________________\n",
      "Layer (type)                 Output Shape              Param #   \n",
      "=================================================================\n",
      "conv1d_14 (Conv1D)           (None, 14, 32)            320       \n",
      "_________________________________________________________________\n",
      "conv1d_15 (Conv1D)           (None, 14, 64)            6208      \n",
      "_________________________________________________________________\n",
      "max_pooling1d_7 (MaxPooling1 (None, 7, 64)             0         \n",
      "_________________________________________________________________\n",
      "lstm_38 (LSTM)               (None, 7, 32)             12416     \n",
      "_________________________________________________________________\n",
      "lstm_39 (LSTM)               (None, 64)                24832     \n",
      "_________________________________________________________________\n",
      "dense_46 (Dense)             (None, 64)                4160      \n",
      "_________________________________________________________________\n",
      "dense_47 (Dense)             (None, 7)                 455       \n",
      "_________________________________________________________________\n",
      "reshape_23 (Reshape)         (None, 7, 1)              0         \n",
      "=================================================================\n",
      "Total params: 48,391\n",
      "Trainable params: 48,391\n",
      "Non-trainable params: 0\n",
      "_________________________________________________________________\n",
      "##### Results #####\n",
      "##### Logging the metadata #####\n",
      "INFO:tensorflow:Assets written to: C:\\Users\\wasin\\Downloads\\Work\\PG(HKU)\\FYP\\Program_Data\\Models\\20211103 09-50LSTM\\assets\n"
     ]
    },
    {
     "name": "stderr",
     "output_type": "stream",
     "text": [
      "INFO:tensorflow:Assets written to: C:\\Users\\wasin\\Downloads\\Work\\PG(HKU)\\FYP\\Program_Data\\Models\\20211103 09-50LSTM\\assets\n",
      "WARNING:absl:Found untraced functions such as query_layer_call_and_return_conditional_losses, query_layer_call_fn, key_layer_call_and_return_conditional_losses, key_layer_call_fn, value_layer_call_and_return_conditional_losses while saving (showing 5 of 30). These functions will not be directly callable after loading.\n"
     ]
    },
    {
     "name": "stdout",
     "output_type": "stream",
     "text": [
      "INFO:tensorflow:Assets written to: C:\\Users\\wasin\\Downloads\\Work\\PG(HKU)\\FYP\\Program_Data\\Models\\20211103 09-50Attention\\assets\n"
     ]
    },
    {
     "name": "stderr",
     "output_type": "stream",
     "text": [
      "INFO:tensorflow:Assets written to: C:\\Users\\wasin\\Downloads\\Work\\PG(HKU)\\FYP\\Program_Data\\Models\\20211103 09-50Attention\\assets\n"
     ]
    },
    {
     "name": "stdout",
     "output_type": "stream",
     "text": [
      "INFO:tensorflow:Assets written to: C:\\Users\\wasin\\Downloads\\Work\\PG(HKU)\\FYP\\Program_Data\\Models\\20211103 09-50C-LSTM\\assets\n"
     ]
    },
    {
     "name": "stderr",
     "output_type": "stream",
     "text": [
      "INFO:tensorflow:Assets written to: C:\\Users\\wasin\\Downloads\\Work\\PG(HKU)\\FYP\\Program_Data\\Models\\20211103 09-50C-LSTM\\assets\n"
     ]
    },
    {
     "name": "stdout",
     "output_type": "stream",
     "text": [
      "##### Log completed #####\n",
      "##### Reshape and MinMaxScale input #####\n",
      "(529, 14, 3) (529, 7, 1) (59, 14, 3) (59, 7, 1)\n",
      "##### Model Development #####\n",
      "Model: \"sequential_16\"\n",
      "_________________________________________________________________\n",
      "Layer (type)                 Output Shape              Param #   \n",
      "=================================================================\n",
      "lstm_40 (LSTM)               (None, 32)                4608      \n",
      "_________________________________________________________________\n",
      "dense_48 (Dense)             (None, 32)                1056      \n",
      "_________________________________________________________________\n",
      "dense_49 (Dense)             (None, 7)                 231       \n",
      "_________________________________________________________________\n",
      "reshape_24 (Reshape)         (None, 7, 1)              0         \n",
      "=================================================================\n",
      "Total params: 5,895\n",
      "Trainable params: 5,895\n",
      "Non-trainable params: 0\n",
      "_________________________________________________________________\n",
      "Model: \"model_8\"\n",
      "__________________________________________________________________________________________________\n",
      "Layer (type)                    Output Shape         Param #     Connected to                     \n",
      "==================================================================================================\n",
      "input_18 (InputLayer)           [(None, 14, 3)]      0                                            \n",
      "__________________________________________________________________________________________________\n",
      "lstm_41 (LSTM)                  [(None, 14, 32), (No 4608        input_18[0][0]                   \n",
      "__________________________________________________________________________________________________\n",
      "multi_head_attention_8 (MultiHe ((None, 14, 32), (No 58720       lstm_41[0][0]                    \n",
      "                                                                 lstm_41[0][0]                    \n",
      "__________________________________________________________________________________________________\n",
      "lstm_42 (LSTM)                  (None, 32)           8320        multi_head_attention_8[0][0]     \n",
      "                                                                 lstm_41[0][1]                    \n",
      "                                                                 lstm_41[0][2]                    \n",
      "__________________________________________________________________________________________________\n",
      "dense_50 (Dense)                (None, 32)           1056        lstm_42[0][0]                    \n",
      "__________________________________________________________________________________________________\n",
      "dense_51 (Dense)                (None, 7)            231         dense_50[0][0]                   \n",
      "__________________________________________________________________________________________________\n",
      "reshape_25 (Reshape)            (None, 7, 1)         0           dense_51[0][0]                   \n",
      "==================================================================================================\n",
      "Total params: 72,935\n",
      "Trainable params: 72,935\n",
      "Non-trainable params: 0\n",
      "__________________________________________________________________________________________________\n",
      "Model: \"sequential_17\"\n",
      "_________________________________________________________________\n",
      "Layer (type)                 Output Shape              Param #   \n",
      "=================================================================\n",
      "conv1d_16 (Conv1D)           (None, 14, 32)            320       \n",
      "_________________________________________________________________\n",
      "conv1d_17 (Conv1D)           (None, 14, 64)            6208      \n",
      "_________________________________________________________________\n",
      "max_pooling1d_8 (MaxPooling1 (None, 7, 64)             0         \n",
      "_________________________________________________________________\n",
      "lstm_43 (LSTM)               (None, 7, 32)             12416     \n",
      "_________________________________________________________________\n",
      "lstm_44 (LSTM)               (None, 64)                24832     \n",
      "_________________________________________________________________\n",
      "dense_52 (Dense)             (None, 64)                4160      \n",
      "_________________________________________________________________\n",
      "dense_53 (Dense)             (None, 7)                 455       \n",
      "_________________________________________________________________\n",
      "reshape_26 (Reshape)         (None, 7, 1)              0         \n",
      "=================================================================\n",
      "Total params: 48,391\n",
      "Trainable params: 48,391\n",
      "Non-trainable params: 0\n",
      "_________________________________________________________________\n",
      "##### Results #####\n",
      "##### Logging the metadata #####\n",
      "INFO:tensorflow:Assets written to: C:\\Users\\wasin\\Downloads\\Work\\PG(HKU)\\FYP\\Program_Data\\Models\\20211103 10-35LSTM\\assets\n"
     ]
    },
    {
     "name": "stderr",
     "output_type": "stream",
     "text": [
      "INFO:tensorflow:Assets written to: C:\\Users\\wasin\\Downloads\\Work\\PG(HKU)\\FYP\\Program_Data\\Models\\20211103 10-35LSTM\\assets\n",
      "WARNING:absl:Found untraced functions such as query_layer_call_and_return_conditional_losses, query_layer_call_fn, key_layer_call_and_return_conditional_losses, key_layer_call_fn, value_layer_call_and_return_conditional_losses while saving (showing 5 of 30). These functions will not be directly callable after loading.\n"
     ]
    },
    {
     "name": "stdout",
     "output_type": "stream",
     "text": [
      "INFO:tensorflow:Assets written to: C:\\Users\\wasin\\Downloads\\Work\\PG(HKU)\\FYP\\Program_Data\\Models\\20211103 10-35Attention\\assets\n"
     ]
    },
    {
     "name": "stderr",
     "output_type": "stream",
     "text": [
      "INFO:tensorflow:Assets written to: C:\\Users\\wasin\\Downloads\\Work\\PG(HKU)\\FYP\\Program_Data\\Models\\20211103 10-35Attention\\assets\n"
     ]
    },
    {
     "name": "stdout",
     "output_type": "stream",
     "text": [
      "INFO:tensorflow:Assets written to: C:\\Users\\wasin\\Downloads\\Work\\PG(HKU)\\FYP\\Program_Data\\Models\\20211103 10-35C-LSTM\\assets\n"
     ]
    },
    {
     "name": "stderr",
     "output_type": "stream",
     "text": [
      "INFO:tensorflow:Assets written to: C:\\Users\\wasin\\Downloads\\Work\\PG(HKU)\\FYP\\Program_Data\\Models\\20211103 10-35C-LSTM\\assets\n"
     ]
    },
    {
     "name": "stdout",
     "output_type": "stream",
     "text": [
      "##### Log completed #####\n",
      "##### Reshape and MinMaxScale input #####\n",
      "(529, 14, 3) (529, 7, 1) (59, 14, 3) (59, 7, 1)\n",
      "##### Model Development #####\n",
      "Model: \"sequential_18\"\n",
      "_________________________________________________________________\n",
      "Layer (type)                 Output Shape              Param #   \n",
      "=================================================================\n",
      "lstm_45 (LSTM)               (None, 32)                4608      \n",
      "_________________________________________________________________\n",
      "dense_54 (Dense)             (None, 32)                1056      \n",
      "_________________________________________________________________\n",
      "dense_55 (Dense)             (None, 7)                 231       \n",
      "_________________________________________________________________\n",
      "reshape_27 (Reshape)         (None, 7, 1)              0         \n",
      "=================================================================\n",
      "Total params: 5,895\n",
      "Trainable params: 5,895\n",
      "Non-trainable params: 0\n",
      "_________________________________________________________________\n",
      "Model: \"model_9\"\n",
      "__________________________________________________________________________________________________\n",
      "Layer (type)                    Output Shape         Param #     Connected to                     \n",
      "==================================================================================================\n",
      "input_20 (InputLayer)           [(None, 14, 3)]      0                                            \n",
      "__________________________________________________________________________________________________\n",
      "lstm_46 (LSTM)                  [(None, 14, 32), (No 4608        input_20[0][0]                   \n",
      "__________________________________________________________________________________________________\n",
      "multi_head_attention_9 (MultiHe ((None, 14, 32), (No 58720       lstm_46[0][0]                    \n",
      "                                                                 lstm_46[0][0]                    \n",
      "__________________________________________________________________________________________________\n",
      "lstm_47 (LSTM)                  (None, 32)           8320        multi_head_attention_9[0][0]     \n",
      "                                                                 lstm_46[0][1]                    \n",
      "                                                                 lstm_46[0][2]                    \n",
      "__________________________________________________________________________________________________\n",
      "dense_56 (Dense)                (None, 32)           1056        lstm_47[0][0]                    \n",
      "__________________________________________________________________________________________________\n",
      "dense_57 (Dense)                (None, 7)            231         dense_56[0][0]                   \n",
      "__________________________________________________________________________________________________\n",
      "reshape_28 (Reshape)            (None, 7, 1)         0           dense_57[0][0]                   \n",
      "==================================================================================================\n",
      "Total params: 72,935\n",
      "Trainable params: 72,935\n",
      "Non-trainable params: 0\n",
      "__________________________________________________________________________________________________\n",
      "Model: \"sequential_19\"\n",
      "_________________________________________________________________\n",
      "Layer (type)                 Output Shape              Param #   \n",
      "=================================================================\n",
      "conv1d_18 (Conv1D)           (None, 14, 32)            320       \n",
      "_________________________________________________________________\n",
      "conv1d_19 (Conv1D)           (None, 14, 64)            6208      \n",
      "_________________________________________________________________\n",
      "max_pooling1d_9 (MaxPooling1 (None, 7, 64)             0         \n",
      "_________________________________________________________________\n",
      "lstm_48 (LSTM)               (None, 7, 32)             12416     \n",
      "_________________________________________________________________\n",
      "lstm_49 (LSTM)               (None, 64)                24832     \n",
      "_________________________________________________________________\n",
      "dense_58 (Dense)             (None, 64)                4160      \n",
      "_________________________________________________________________\n",
      "dense_59 (Dense)             (None, 7)                 455       \n",
      "_________________________________________________________________\n",
      "reshape_29 (Reshape)         (None, 7, 1)              0         \n",
      "=================================================================\n",
      "Total params: 48,391\n",
      "Trainable params: 48,391\n",
      "Non-trainable params: 0\n",
      "_________________________________________________________________\n",
      "##### Results #####\n",
      "##### Logging the metadata #####\n",
      "INFO:tensorflow:Assets written to: C:\\Users\\wasin\\Downloads\\Work\\PG(HKU)\\FYP\\Program_Data\\Models\\20211103 11-18LSTM\\assets\n"
     ]
    },
    {
     "name": "stderr",
     "output_type": "stream",
     "text": [
      "INFO:tensorflow:Assets written to: C:\\Users\\wasin\\Downloads\\Work\\PG(HKU)\\FYP\\Program_Data\\Models\\20211103 11-18LSTM\\assets\n",
      "WARNING:absl:Found untraced functions such as query_layer_call_and_return_conditional_losses, query_layer_call_fn, key_layer_call_and_return_conditional_losses, key_layer_call_fn, value_layer_call_and_return_conditional_losses while saving (showing 5 of 30). These functions will not be directly callable after loading.\n"
     ]
    },
    {
     "name": "stdout",
     "output_type": "stream",
     "text": [
      "INFO:tensorflow:Assets written to: C:\\Users\\wasin\\Downloads\\Work\\PG(HKU)\\FYP\\Program_Data\\Models\\20211103 11-18Attention\\assets\n"
     ]
    },
    {
     "name": "stderr",
     "output_type": "stream",
     "text": [
      "INFO:tensorflow:Assets written to: C:\\Users\\wasin\\Downloads\\Work\\PG(HKU)\\FYP\\Program_Data\\Models\\20211103 11-18Attention\\assets\n"
     ]
    },
    {
     "name": "stdout",
     "output_type": "stream",
     "text": [
      "INFO:tensorflow:Assets written to: C:\\Users\\wasin\\Downloads\\Work\\PG(HKU)\\FYP\\Program_Data\\Models\\20211103 11-18C-LSTM\\assets\n"
     ]
    },
    {
     "name": "stderr",
     "output_type": "stream",
     "text": [
      "INFO:tensorflow:Assets written to: C:\\Users\\wasin\\Downloads\\Work\\PG(HKU)\\FYP\\Program_Data\\Models\\20211103 11-18C-LSTM\\assets\n"
     ]
    },
    {
     "name": "stdout",
     "output_type": "stream",
     "text": [
      "##### Log completed #####\n",
      "##### Reshape and MinMaxScale input #####\n",
      "(529, 14, 3) (529, 7, 1) (59, 14, 3) (59, 7, 1)\n",
      "##### Model Development #####\n",
      "Model: \"sequential_20\"\n",
      "_________________________________________________________________\n",
      "Layer (type)                 Output Shape              Param #   \n",
      "=================================================================\n",
      "lstm_50 (LSTM)               (None, 32)                4608      \n",
      "_________________________________________________________________\n",
      "dense_60 (Dense)             (None, 32)                1056      \n",
      "_________________________________________________________________\n",
      "dense_61 (Dense)             (None, 7)                 231       \n",
      "_________________________________________________________________\n",
      "reshape_30 (Reshape)         (None, 7, 1)              0         \n",
      "=================================================================\n",
      "Total params: 5,895\n",
      "Trainable params: 5,895\n",
      "Non-trainable params: 0\n",
      "_________________________________________________________________\n",
      "Model: \"model_10\"\n",
      "__________________________________________________________________________________________________\n",
      "Layer (type)                    Output Shape         Param #     Connected to                     \n",
      "==================================================================================================\n",
      "input_22 (InputLayer)           [(None, 14, 3)]      0                                            \n",
      "__________________________________________________________________________________________________\n",
      "lstm_51 (LSTM)                  [(None, 14, 32), (No 4608        input_22[0][0]                   \n",
      "__________________________________________________________________________________________________\n",
      "multi_head_attention_10 (MultiH ((None, 14, 32), (No 58720       lstm_51[0][0]                    \n",
      "                                                                 lstm_51[0][0]                    \n",
      "__________________________________________________________________________________________________\n",
      "lstm_52 (LSTM)                  (None, 32)           8320        multi_head_attention_10[0][0]    \n",
      "                                                                 lstm_51[0][1]                    \n",
      "                                                                 lstm_51[0][2]                    \n",
      "__________________________________________________________________________________________________\n",
      "dense_62 (Dense)                (None, 32)           1056        lstm_52[0][0]                    \n",
      "__________________________________________________________________________________________________\n",
      "dense_63 (Dense)                (None, 7)            231         dense_62[0][0]                   \n",
      "__________________________________________________________________________________________________\n",
      "reshape_31 (Reshape)            (None, 7, 1)         0           dense_63[0][0]                   \n",
      "==================================================================================================\n",
      "Total params: 72,935\n",
      "Trainable params: 72,935\n",
      "Non-trainable params: 0\n",
      "__________________________________________________________________________________________________\n",
      "Model: \"sequential_21\"\n",
      "_________________________________________________________________\n",
      "Layer (type)                 Output Shape              Param #   \n",
      "=================================================================\n",
      "conv1d_20 (Conv1D)           (None, 14, 32)            320       \n",
      "_________________________________________________________________\n",
      "conv1d_21 (Conv1D)           (None, 14, 64)            6208      \n",
      "_________________________________________________________________\n",
      "max_pooling1d_10 (MaxPooling (None, 7, 64)             0         \n",
      "_________________________________________________________________\n",
      "lstm_53 (LSTM)               (None, 7, 32)             12416     \n",
      "_________________________________________________________________\n",
      "lstm_54 (LSTM)               (None, 64)                24832     \n",
      "_________________________________________________________________\n",
      "dense_64 (Dense)             (None, 64)                4160      \n",
      "_________________________________________________________________\n",
      "dense_65 (Dense)             (None, 7)                 455       \n",
      "_________________________________________________________________\n",
      "reshape_32 (Reshape)         (None, 7, 1)              0         \n",
      "=================================================================\n",
      "Total params: 48,391\n",
      "Trainable params: 48,391\n",
      "Non-trainable params: 0\n",
      "_________________________________________________________________\n",
      "##### Results #####\n",
      "##### Logging the metadata #####\n",
      "INFO:tensorflow:Assets written to: C:\\Users\\wasin\\Downloads\\Work\\PG(HKU)\\FYP\\Program_Data\\Models\\20211103 12-04LSTM\\assets\n"
     ]
    },
    {
     "name": "stderr",
     "output_type": "stream",
     "text": [
      "INFO:tensorflow:Assets written to: C:\\Users\\wasin\\Downloads\\Work\\PG(HKU)\\FYP\\Program_Data\\Models\\20211103 12-04LSTM\\assets\n",
      "WARNING:absl:Found untraced functions such as query_layer_call_and_return_conditional_losses, query_layer_call_fn, key_layer_call_and_return_conditional_losses, key_layer_call_fn, value_layer_call_and_return_conditional_losses while saving (showing 5 of 30). These functions will not be directly callable after loading.\n"
     ]
    },
    {
     "name": "stdout",
     "output_type": "stream",
     "text": [
      "INFO:tensorflow:Assets written to: C:\\Users\\wasin\\Downloads\\Work\\PG(HKU)\\FYP\\Program_Data\\Models\\20211103 12-04Attention\\assets\n"
     ]
    },
    {
     "name": "stderr",
     "output_type": "stream",
     "text": [
      "INFO:tensorflow:Assets written to: C:\\Users\\wasin\\Downloads\\Work\\PG(HKU)\\FYP\\Program_Data\\Models\\20211103 12-04Attention\\assets\n"
     ]
    },
    {
     "name": "stdout",
     "output_type": "stream",
     "text": [
      "INFO:tensorflow:Assets written to: C:\\Users\\wasin\\Downloads\\Work\\PG(HKU)\\FYP\\Program_Data\\Models\\20211103 12-04C-LSTM\\assets\n"
     ]
    },
    {
     "name": "stderr",
     "output_type": "stream",
     "text": [
      "INFO:tensorflow:Assets written to: C:\\Users\\wasin\\Downloads\\Work\\PG(HKU)\\FYP\\Program_Data\\Models\\20211103 12-04C-LSTM\\assets\n"
     ]
    },
    {
     "name": "stdout",
     "output_type": "stream",
     "text": [
      "##### Log completed #####\n",
      "##### Reshape and MinMaxScale input #####\n",
      "(529, 14, 3) (529, 7, 1) (59, 14, 3) (59, 7, 1)\n",
      "##### Model Development #####\n",
      "Model: \"sequential_22\"\n",
      "_________________________________________________________________\n",
      "Layer (type)                 Output Shape              Param #   \n",
      "=================================================================\n",
      "lstm_55 (LSTM)               (None, 32)                4608      \n",
      "_________________________________________________________________\n",
      "dense_66 (Dense)             (None, 32)                1056      \n",
      "_________________________________________________________________\n",
      "dense_67 (Dense)             (None, 7)                 231       \n",
      "_________________________________________________________________\n",
      "reshape_33 (Reshape)         (None, 7, 1)              0         \n",
      "=================================================================\n",
      "Total params: 5,895\n",
      "Trainable params: 5,895\n",
      "Non-trainable params: 0\n",
      "_________________________________________________________________\n",
      "Model: \"model_11\"\n",
      "__________________________________________________________________________________________________\n",
      "Layer (type)                    Output Shape         Param #     Connected to                     \n",
      "==================================================================================================\n",
      "input_24 (InputLayer)           [(None, 14, 3)]      0                                            \n",
      "__________________________________________________________________________________________________\n",
      "lstm_56 (LSTM)                  [(None, 14, 32), (No 4608        input_24[0][0]                   \n",
      "__________________________________________________________________________________________________\n",
      "multi_head_attention_11 (MultiH ((None, 14, 32), (No 58720       lstm_56[0][0]                    \n",
      "                                                                 lstm_56[0][0]                    \n",
      "__________________________________________________________________________________________________\n",
      "lstm_57 (LSTM)                  (None, 32)           8320        multi_head_attention_11[0][0]    \n",
      "                                                                 lstm_56[0][1]                    \n",
      "                                                                 lstm_56[0][2]                    \n",
      "__________________________________________________________________________________________________\n",
      "dense_68 (Dense)                (None, 32)           1056        lstm_57[0][0]                    \n",
      "__________________________________________________________________________________________________\n",
      "dense_69 (Dense)                (None, 7)            231         dense_68[0][0]                   \n",
      "__________________________________________________________________________________________________\n",
      "reshape_34 (Reshape)            (None, 7, 1)         0           dense_69[0][0]                   \n",
      "==================================================================================================\n",
      "Total params: 72,935\n",
      "Trainable params: 72,935\n",
      "Non-trainable params: 0\n",
      "__________________________________________________________________________________________________\n",
      "Model: \"sequential_23\"\n",
      "_________________________________________________________________\n",
      "Layer (type)                 Output Shape              Param #   \n",
      "=================================================================\n",
      "conv1d_22 (Conv1D)           (None, 14, 32)            320       \n",
      "_________________________________________________________________\n",
      "conv1d_23 (Conv1D)           (None, 14, 64)            6208      \n",
      "_________________________________________________________________\n",
      "max_pooling1d_11 (MaxPooling (None, 7, 64)             0         \n",
      "_________________________________________________________________\n",
      "lstm_58 (LSTM)               (None, 7, 32)             12416     \n",
      "_________________________________________________________________\n",
      "lstm_59 (LSTM)               (None, 64)                24832     \n",
      "_________________________________________________________________\n",
      "dense_70 (Dense)             (None, 64)                4160      \n",
      "_________________________________________________________________\n",
      "dense_71 (Dense)             (None, 7)                 455       \n",
      "_________________________________________________________________\n",
      "reshape_35 (Reshape)         (None, 7, 1)              0         \n",
      "=================================================================\n",
      "Total params: 48,391\n",
      "Trainable params: 48,391\n",
      "Non-trainable params: 0\n",
      "_________________________________________________________________\n",
      "##### Results #####\n",
      "##### Logging the metadata #####\n",
      "INFO:tensorflow:Assets written to: C:\\Users\\wasin\\Downloads\\Work\\PG(HKU)\\FYP\\Program_Data\\Models\\20211103 12-51LSTM\\assets\n"
     ]
    },
    {
     "name": "stderr",
     "output_type": "stream",
     "text": [
      "INFO:tensorflow:Assets written to: C:\\Users\\wasin\\Downloads\\Work\\PG(HKU)\\FYP\\Program_Data\\Models\\20211103 12-51LSTM\\assets\n",
      "WARNING:absl:Found untraced functions such as query_layer_call_and_return_conditional_losses, query_layer_call_fn, key_layer_call_and_return_conditional_losses, key_layer_call_fn, value_layer_call_and_return_conditional_losses while saving (showing 5 of 30). These functions will not be directly callable after loading.\n"
     ]
    },
    {
     "name": "stdout",
     "output_type": "stream",
     "text": [
      "INFO:tensorflow:Assets written to: C:\\Users\\wasin\\Downloads\\Work\\PG(HKU)\\FYP\\Program_Data\\Models\\20211103 12-51Attention\\assets\n"
     ]
    },
    {
     "name": "stderr",
     "output_type": "stream",
     "text": [
      "INFO:tensorflow:Assets written to: C:\\Users\\wasin\\Downloads\\Work\\PG(HKU)\\FYP\\Program_Data\\Models\\20211103 12-51Attention\\assets\n"
     ]
    },
    {
     "name": "stdout",
     "output_type": "stream",
     "text": [
      "INFO:tensorflow:Assets written to: C:\\Users\\wasin\\Downloads\\Work\\PG(HKU)\\FYP\\Program_Data\\Models\\20211103 12-51C-LSTM\\assets\n"
     ]
    },
    {
     "name": "stderr",
     "output_type": "stream",
     "text": [
      "INFO:tensorflow:Assets written to: C:\\Users\\wasin\\Downloads\\Work\\PG(HKU)\\FYP\\Program_Data\\Models\\20211103 12-51C-LSTM\\assets\n"
     ]
    },
    {
     "name": "stdout",
     "output_type": "stream",
     "text": [
      "##### Log completed #####\n",
      "##### Reshape and MinMaxScale input #####\n",
      "(529, 14, 3) (529, 7, 1) (59, 14, 3) (59, 7, 1)\n",
      "##### Model Development #####\n",
      "Model: \"sequential_24\"\n",
      "_________________________________________________________________\n",
      "Layer (type)                 Output Shape              Param #   \n",
      "=================================================================\n",
      "lstm_60 (LSTM)               (None, 32)                4608      \n",
      "_________________________________________________________________\n",
      "dense_72 (Dense)             (None, 32)                1056      \n",
      "_________________________________________________________________\n",
      "dense_73 (Dense)             (None, 7)                 231       \n",
      "_________________________________________________________________\n",
      "reshape_36 (Reshape)         (None, 7, 1)              0         \n",
      "=================================================================\n",
      "Total params: 5,895\n",
      "Trainable params: 5,895\n",
      "Non-trainable params: 0\n",
      "_________________________________________________________________\n",
      "Model: \"model_12\"\n",
      "__________________________________________________________________________________________________\n",
      "Layer (type)                    Output Shape         Param #     Connected to                     \n",
      "==================================================================================================\n",
      "input_26 (InputLayer)           [(None, 14, 3)]      0                                            \n",
      "__________________________________________________________________________________________________\n",
      "lstm_61 (LSTM)                  [(None, 14, 32), (No 4608        input_26[0][0]                   \n",
      "__________________________________________________________________________________________________\n",
      "multi_head_attention_12 (MultiH ((None, 14, 32), (No 58720       lstm_61[0][0]                    \n",
      "                                                                 lstm_61[0][0]                    \n",
      "__________________________________________________________________________________________________\n",
      "lstm_62 (LSTM)                  (None, 32)           8320        multi_head_attention_12[0][0]    \n",
      "                                                                 lstm_61[0][1]                    \n",
      "                                                                 lstm_61[0][2]                    \n",
      "__________________________________________________________________________________________________\n",
      "dense_74 (Dense)                (None, 32)           1056        lstm_62[0][0]                    \n",
      "__________________________________________________________________________________________________\n",
      "dense_75 (Dense)                (None, 7)            231         dense_74[0][0]                   \n",
      "__________________________________________________________________________________________________\n",
      "reshape_37 (Reshape)            (None, 7, 1)         0           dense_75[0][0]                   \n",
      "==================================================================================================\n",
      "Total params: 72,935\n",
      "Trainable params: 72,935\n",
      "Non-trainable params: 0\n",
      "__________________________________________________________________________________________________\n",
      "Model: \"sequential_25\"\n",
      "_________________________________________________________________\n",
      "Layer (type)                 Output Shape              Param #   \n",
      "=================================================================\n",
      "conv1d_24 (Conv1D)           (None, 14, 32)            320       \n",
      "_________________________________________________________________\n",
      "conv1d_25 (Conv1D)           (None, 14, 64)            6208      \n",
      "_________________________________________________________________\n",
      "max_pooling1d_12 (MaxPooling (None, 7, 64)             0         \n",
      "_________________________________________________________________\n",
      "lstm_63 (LSTM)               (None, 7, 32)             12416     \n",
      "_________________________________________________________________\n",
      "lstm_64 (LSTM)               (None, 64)                24832     \n",
      "_________________________________________________________________\n",
      "dense_76 (Dense)             (None, 64)                4160      \n",
      "_________________________________________________________________\n",
      "dense_77 (Dense)             (None, 7)                 455       \n",
      "_________________________________________________________________\n",
      "reshape_38 (Reshape)         (None, 7, 1)              0         \n",
      "=================================================================\n",
      "Total params: 48,391\n",
      "Trainable params: 48,391\n",
      "Non-trainable params: 0\n",
      "_________________________________________________________________\n",
      "##### Results #####\n",
      "##### Logging the metadata #####\n",
      "INFO:tensorflow:Assets written to: C:\\Users\\wasin\\Downloads\\Work\\PG(HKU)\\FYP\\Program_Data\\Models\\20211103 13-41LSTM\\assets\n"
     ]
    },
    {
     "name": "stderr",
     "output_type": "stream",
     "text": [
      "INFO:tensorflow:Assets written to: C:\\Users\\wasin\\Downloads\\Work\\PG(HKU)\\FYP\\Program_Data\\Models\\20211103 13-41LSTM\\assets\n",
      "WARNING:absl:Found untraced functions such as query_layer_call_and_return_conditional_losses, query_layer_call_fn, key_layer_call_and_return_conditional_losses, key_layer_call_fn, value_layer_call_and_return_conditional_losses while saving (showing 5 of 30). These functions will not be directly callable after loading.\n"
     ]
    },
    {
     "name": "stdout",
     "output_type": "stream",
     "text": [
      "INFO:tensorflow:Assets written to: C:\\Users\\wasin\\Downloads\\Work\\PG(HKU)\\FYP\\Program_Data\\Models\\20211103 13-41Attention\\assets\n"
     ]
    },
    {
     "name": "stderr",
     "output_type": "stream",
     "text": [
      "INFO:tensorflow:Assets written to: C:\\Users\\wasin\\Downloads\\Work\\PG(HKU)\\FYP\\Program_Data\\Models\\20211103 13-41Attention\\assets\n"
     ]
    },
    {
     "name": "stdout",
     "output_type": "stream",
     "text": [
      "INFO:tensorflow:Assets written to: C:\\Users\\wasin\\Downloads\\Work\\PG(HKU)\\FYP\\Program_Data\\Models\\20211103 13-41C-LSTM\\assets\n"
     ]
    },
    {
     "name": "stderr",
     "output_type": "stream",
     "text": [
      "INFO:tensorflow:Assets written to: C:\\Users\\wasin\\Downloads\\Work\\PG(HKU)\\FYP\\Program_Data\\Models\\20211103 13-41C-LSTM\\assets\n"
     ]
    },
    {
     "name": "stdout",
     "output_type": "stream",
     "text": [
      "##### Log completed #####\n",
      "##### Reshape and MinMaxScale input #####\n",
      "(529, 14, 3) (529, 7, 1) (59, 14, 3) (59, 7, 1)\n",
      "##### Model Development #####\n",
      "Model: \"sequential_26\"\n",
      "_________________________________________________________________\n",
      "Layer (type)                 Output Shape              Param #   \n",
      "=================================================================\n",
      "lstm_65 (LSTM)               (None, 32)                4608      \n",
      "_________________________________________________________________\n",
      "dense_78 (Dense)             (None, 32)                1056      \n",
      "_________________________________________________________________\n",
      "dense_79 (Dense)             (None, 7)                 231       \n",
      "_________________________________________________________________\n",
      "reshape_39 (Reshape)         (None, 7, 1)              0         \n",
      "=================================================================\n",
      "Total params: 5,895\n",
      "Trainable params: 5,895\n",
      "Non-trainable params: 0\n",
      "_________________________________________________________________\n",
      "Model: \"model_13\"\n",
      "__________________________________________________________________________________________________\n",
      "Layer (type)                    Output Shape         Param #     Connected to                     \n",
      "==================================================================================================\n",
      "input_28 (InputLayer)           [(None, 14, 3)]      0                                            \n",
      "__________________________________________________________________________________________________\n",
      "lstm_66 (LSTM)                  [(None, 14, 32), (No 4608        input_28[0][0]                   \n",
      "__________________________________________________________________________________________________\n",
      "multi_head_attention_13 (MultiH ((None, 14, 32), (No 58720       lstm_66[0][0]                    \n",
      "                                                                 lstm_66[0][0]                    \n",
      "__________________________________________________________________________________________________\n",
      "lstm_67 (LSTM)                  (None, 32)           8320        multi_head_attention_13[0][0]    \n",
      "                                                                 lstm_66[0][1]                    \n",
      "                                                                 lstm_66[0][2]                    \n",
      "__________________________________________________________________________________________________\n",
      "dense_80 (Dense)                (None, 32)           1056        lstm_67[0][0]                    \n",
      "__________________________________________________________________________________________________\n",
      "dense_81 (Dense)                (None, 7)            231         dense_80[0][0]                   \n",
      "__________________________________________________________________________________________________\n",
      "reshape_40 (Reshape)            (None, 7, 1)         0           dense_81[0][0]                   \n",
      "==================================================================================================\n",
      "Total params: 72,935\n",
      "Trainable params: 72,935\n",
      "Non-trainable params: 0\n",
      "__________________________________________________________________________________________________\n",
      "Model: \"sequential_27\"\n",
      "_________________________________________________________________\n",
      "Layer (type)                 Output Shape              Param #   \n",
      "=================================================================\n",
      "conv1d_26 (Conv1D)           (None, 14, 32)            320       \n",
      "_________________________________________________________________\n",
      "conv1d_27 (Conv1D)           (None, 14, 64)            6208      \n",
      "_________________________________________________________________\n",
      "max_pooling1d_13 (MaxPooling (None, 7, 64)             0         \n",
      "_________________________________________________________________\n",
      "lstm_68 (LSTM)               (None, 7, 32)             12416     \n",
      "_________________________________________________________________\n",
      "lstm_69 (LSTM)               (None, 64)                24832     \n",
      "_________________________________________________________________\n",
      "dense_82 (Dense)             (None, 64)                4160      \n",
      "_________________________________________________________________\n",
      "dense_83 (Dense)             (None, 7)                 455       \n",
      "_________________________________________________________________\n",
      "reshape_41 (Reshape)         (None, 7, 1)              0         \n",
      "=================================================================\n",
      "Total params: 48,391\n",
      "Trainable params: 48,391\n",
      "Non-trainable params: 0\n",
      "_________________________________________________________________\n",
      "##### Results #####\n",
      "##### Logging the metadata #####\n",
      "INFO:tensorflow:Assets written to: C:\\Users\\wasin\\Downloads\\Work\\PG(HKU)\\FYP\\Program_Data\\Models\\20211103 14-34LSTM\\assets\n"
     ]
    },
    {
     "name": "stderr",
     "output_type": "stream",
     "text": [
      "INFO:tensorflow:Assets written to: C:\\Users\\wasin\\Downloads\\Work\\PG(HKU)\\FYP\\Program_Data\\Models\\20211103 14-34LSTM\\assets\n",
      "WARNING:absl:Found untraced functions such as query_layer_call_and_return_conditional_losses, query_layer_call_fn, key_layer_call_and_return_conditional_losses, key_layer_call_fn, value_layer_call_and_return_conditional_losses while saving (showing 5 of 30). These functions will not be directly callable after loading.\n"
     ]
    },
    {
     "name": "stdout",
     "output_type": "stream",
     "text": [
      "INFO:tensorflow:Assets written to: C:\\Users\\wasin\\Downloads\\Work\\PG(HKU)\\FYP\\Program_Data\\Models\\20211103 14-34Attention\\assets\n"
     ]
    },
    {
     "name": "stderr",
     "output_type": "stream",
     "text": [
      "INFO:tensorflow:Assets written to: C:\\Users\\wasin\\Downloads\\Work\\PG(HKU)\\FYP\\Program_Data\\Models\\20211103 14-34Attention\\assets\n"
     ]
    },
    {
     "name": "stdout",
     "output_type": "stream",
     "text": [
      "INFO:tensorflow:Assets written to: C:\\Users\\wasin\\Downloads\\Work\\PG(HKU)\\FYP\\Program_Data\\Models\\20211103 14-34C-LSTM\\assets\n"
     ]
    },
    {
     "name": "stderr",
     "output_type": "stream",
     "text": [
      "INFO:tensorflow:Assets written to: C:\\Users\\wasin\\Downloads\\Work\\PG(HKU)\\FYP\\Program_Data\\Models\\20211103 14-34C-LSTM\\assets\n"
     ]
    },
    {
     "name": "stdout",
     "output_type": "stream",
     "text": [
      "##### Log completed #####\n",
      "##### Reshape and MinMaxScale input #####\n",
      "(529, 14, 3) (529, 7, 1) (59, 14, 3) (59, 7, 1)\n",
      "##### Model Development #####\n",
      "Model: \"sequential_28\"\n",
      "_________________________________________________________________\n",
      "Layer (type)                 Output Shape              Param #   \n",
      "=================================================================\n",
      "lstm_70 (LSTM)               (None, 32)                4608      \n",
      "_________________________________________________________________\n",
      "dense_84 (Dense)             (None, 32)                1056      \n",
      "_________________________________________________________________\n",
      "dense_85 (Dense)             (None, 7)                 231       \n",
      "_________________________________________________________________\n",
      "reshape_42 (Reshape)         (None, 7, 1)              0         \n",
      "=================================================================\n",
      "Total params: 5,895\n",
      "Trainable params: 5,895\n",
      "Non-trainable params: 0\n",
      "_________________________________________________________________\n",
      "Model: \"model_14\"\n",
      "__________________________________________________________________________________________________\n",
      "Layer (type)                    Output Shape         Param #     Connected to                     \n",
      "==================================================================================================\n",
      "input_30 (InputLayer)           [(None, 14, 3)]      0                                            \n",
      "__________________________________________________________________________________________________\n",
      "lstm_71 (LSTM)                  [(None, 14, 32), (No 4608        input_30[0][0]                   \n",
      "__________________________________________________________________________________________________\n",
      "multi_head_attention_14 (MultiH ((None, 14, 32), (No 58720       lstm_71[0][0]                    \n",
      "                                                                 lstm_71[0][0]                    \n",
      "__________________________________________________________________________________________________\n",
      "lstm_72 (LSTM)                  (None, 32)           8320        multi_head_attention_14[0][0]    \n",
      "                                                                 lstm_71[0][1]                    \n",
      "                                                                 lstm_71[0][2]                    \n",
      "__________________________________________________________________________________________________\n",
      "dense_86 (Dense)                (None, 32)           1056        lstm_72[0][0]                    \n",
      "__________________________________________________________________________________________________\n",
      "dense_87 (Dense)                (None, 7)            231         dense_86[0][0]                   \n",
      "__________________________________________________________________________________________________\n",
      "reshape_43 (Reshape)            (None, 7, 1)         0           dense_87[0][0]                   \n",
      "==================================================================================================\n",
      "Total params: 72,935\n",
      "Trainable params: 72,935\n",
      "Non-trainable params: 0\n",
      "__________________________________________________________________________________________________\n",
      "Model: \"sequential_29\"\n",
      "_________________________________________________________________\n",
      "Layer (type)                 Output Shape              Param #   \n",
      "=================================================================\n",
      "conv1d_28 (Conv1D)           (None, 14, 32)            320       \n",
      "_________________________________________________________________\n",
      "conv1d_29 (Conv1D)           (None, 14, 64)            6208      \n",
      "_________________________________________________________________\n",
      "max_pooling1d_14 (MaxPooling (None, 7, 64)             0         \n",
      "_________________________________________________________________\n",
      "lstm_73 (LSTM)               (None, 7, 32)             12416     \n",
      "_________________________________________________________________\n",
      "lstm_74 (LSTM)               (None, 64)                24832     \n",
      "_________________________________________________________________\n",
      "dense_88 (Dense)             (None, 64)                4160      \n",
      "_________________________________________________________________\n",
      "dense_89 (Dense)             (None, 7)                 455       \n",
      "_________________________________________________________________\n",
      "reshape_44 (Reshape)         (None, 7, 1)              0         \n",
      "=================================================================\n",
      "Total params: 48,391\n",
      "Trainable params: 48,391\n",
      "Non-trainable params: 0\n",
      "_________________________________________________________________\n",
      "##### Results #####\n",
      "##### Logging the metadata #####\n",
      "INFO:tensorflow:Assets written to: C:\\Users\\wasin\\Downloads\\Work\\PG(HKU)\\FYP\\Program_Data\\Models\\20211103 15-33LSTM\\assets\n"
     ]
    },
    {
     "name": "stderr",
     "output_type": "stream",
     "text": [
      "INFO:tensorflow:Assets written to: C:\\Users\\wasin\\Downloads\\Work\\PG(HKU)\\FYP\\Program_Data\\Models\\20211103 15-33LSTM\\assets\n",
      "WARNING:absl:Found untraced functions such as query_layer_call_and_return_conditional_losses, query_layer_call_fn, key_layer_call_and_return_conditional_losses, key_layer_call_fn, value_layer_call_and_return_conditional_losses while saving (showing 5 of 30). These functions will not be directly callable after loading.\n"
     ]
    },
    {
     "name": "stdout",
     "output_type": "stream",
     "text": [
      "INFO:tensorflow:Assets written to: C:\\Users\\wasin\\Downloads\\Work\\PG(HKU)\\FYP\\Program_Data\\Models\\20211103 15-33Attention\\assets\n"
     ]
    },
    {
     "name": "stderr",
     "output_type": "stream",
     "text": [
      "INFO:tensorflow:Assets written to: C:\\Users\\wasin\\Downloads\\Work\\PG(HKU)\\FYP\\Program_Data\\Models\\20211103 15-33Attention\\assets\n"
     ]
    },
    {
     "name": "stdout",
     "output_type": "stream",
     "text": [
      "INFO:tensorflow:Assets written to: C:\\Users\\wasin\\Downloads\\Work\\PG(HKU)\\FYP\\Program_Data\\Models\\20211103 15-33C-LSTM\\assets\n"
     ]
    },
    {
     "name": "stderr",
     "output_type": "stream",
     "text": [
      "INFO:tensorflow:Assets written to: C:\\Users\\wasin\\Downloads\\Work\\PG(HKU)\\FYP\\Program_Data\\Models\\20211103 15-33C-LSTM\\assets\n"
     ]
    },
    {
     "name": "stdout",
     "output_type": "stream",
     "text": [
      "##### Log completed #####\n",
      "##### Reshape and MinMaxScale input #####\n",
      "(529, 14, 3) (529, 7, 1) (59, 14, 3) (59, 7, 1)\n",
      "##### Model Development #####\n",
      "Model: \"sequential_30\"\n",
      "_________________________________________________________________\n",
      "Layer (type)                 Output Shape              Param #   \n",
      "=================================================================\n",
      "lstm_75 (LSTM)               (None, 32)                4608      \n",
      "_________________________________________________________________\n",
      "dense_90 (Dense)             (None, 32)                1056      \n",
      "_________________________________________________________________\n",
      "dense_91 (Dense)             (None, 7)                 231       \n",
      "_________________________________________________________________\n",
      "reshape_45 (Reshape)         (None, 7, 1)              0         \n",
      "=================================================================\n",
      "Total params: 5,895\n",
      "Trainable params: 5,895\n",
      "Non-trainable params: 0\n",
      "_________________________________________________________________\n",
      "Model: \"model_15\"\n",
      "__________________________________________________________________________________________________\n",
      "Layer (type)                    Output Shape         Param #     Connected to                     \n",
      "==================================================================================================\n",
      "input_32 (InputLayer)           [(None, 14, 3)]      0                                            \n",
      "__________________________________________________________________________________________________\n",
      "lstm_76 (LSTM)                  [(None, 14, 32), (No 4608        input_32[0][0]                   \n",
      "__________________________________________________________________________________________________\n",
      "multi_head_attention_15 (MultiH ((None, 14, 32), (No 58720       lstm_76[0][0]                    \n",
      "                                                                 lstm_76[0][0]                    \n",
      "__________________________________________________________________________________________________\n",
      "lstm_77 (LSTM)                  (None, 32)           8320        multi_head_attention_15[0][0]    \n",
      "                                                                 lstm_76[0][1]                    \n",
      "                                                                 lstm_76[0][2]                    \n",
      "__________________________________________________________________________________________________\n",
      "dense_92 (Dense)                (None, 32)           1056        lstm_77[0][0]                    \n",
      "__________________________________________________________________________________________________\n",
      "dense_93 (Dense)                (None, 7)            231         dense_92[0][0]                   \n",
      "__________________________________________________________________________________________________\n",
      "reshape_46 (Reshape)            (None, 7, 1)         0           dense_93[0][0]                   \n",
      "==================================================================================================\n",
      "Total params: 72,935\n",
      "Trainable params: 72,935\n",
      "Non-trainable params: 0\n",
      "__________________________________________________________________________________________________\n",
      "Model: \"sequential_31\"\n",
      "_________________________________________________________________\n",
      "Layer (type)                 Output Shape              Param #   \n",
      "=================================================================\n",
      "conv1d_30 (Conv1D)           (None, 14, 32)            320       \n",
      "_________________________________________________________________\n",
      "conv1d_31 (Conv1D)           (None, 14, 64)            6208      \n",
      "_________________________________________________________________\n",
      "max_pooling1d_15 (MaxPooling (None, 7, 64)             0         \n",
      "_________________________________________________________________\n",
      "lstm_78 (LSTM)               (None, 7, 32)             12416     \n",
      "_________________________________________________________________\n",
      "lstm_79 (LSTM)               (None, 64)                24832     \n",
      "_________________________________________________________________\n",
      "dense_94 (Dense)             (None, 64)                4160      \n",
      "_________________________________________________________________\n",
      "dense_95 (Dense)             (None, 7)                 455       \n",
      "_________________________________________________________________\n",
      "reshape_47 (Reshape)         (None, 7, 1)              0         \n",
      "=================================================================\n",
      "Total params: 48,391\n",
      "Trainable params: 48,391\n",
      "Non-trainable params: 0\n",
      "_________________________________________________________________\n",
      "##### Results #####\n",
      "##### Logging the metadata #####\n",
      "INFO:tensorflow:Assets written to: C:\\Users\\wasin\\Downloads\\Work\\PG(HKU)\\FYP\\Program_Data\\Models\\20211103 16-28LSTM\\assets\n"
     ]
    },
    {
     "name": "stderr",
     "output_type": "stream",
     "text": [
      "INFO:tensorflow:Assets written to: C:\\Users\\wasin\\Downloads\\Work\\PG(HKU)\\FYP\\Program_Data\\Models\\20211103 16-28LSTM\\assets\n",
      "WARNING:absl:Found untraced functions such as query_layer_call_and_return_conditional_losses, query_layer_call_fn, key_layer_call_and_return_conditional_losses, key_layer_call_fn, value_layer_call_and_return_conditional_losses while saving (showing 5 of 30). These functions will not be directly callable after loading.\n"
     ]
    },
    {
     "name": "stdout",
     "output_type": "stream",
     "text": [
      "INFO:tensorflow:Assets written to: C:\\Users\\wasin\\Downloads\\Work\\PG(HKU)\\FYP\\Program_Data\\Models\\20211103 16-28Attention\\assets\n"
     ]
    },
    {
     "name": "stderr",
     "output_type": "stream",
     "text": [
      "INFO:tensorflow:Assets written to: C:\\Users\\wasin\\Downloads\\Work\\PG(HKU)\\FYP\\Program_Data\\Models\\20211103 16-28Attention\\assets\n"
     ]
    },
    {
     "name": "stdout",
     "output_type": "stream",
     "text": [
      "INFO:tensorflow:Assets written to: C:\\Users\\wasin\\Downloads\\Work\\PG(HKU)\\FYP\\Program_Data\\Models\\20211103 16-28C-LSTM\\assets\n"
     ]
    },
    {
     "name": "stderr",
     "output_type": "stream",
     "text": [
      "INFO:tensorflow:Assets written to: C:\\Users\\wasin\\Downloads\\Work\\PG(HKU)\\FYP\\Program_Data\\Models\\20211103 16-28C-LSTM\\assets\n"
     ]
    },
    {
     "name": "stdout",
     "output_type": "stream",
     "text": [
      "##### Log completed #####\n",
      "##### Reshape and MinMaxScale input #####\n",
      "(529, 14, 3) (529, 7, 1) (59, 14, 3) (59, 7, 1)\n",
      "##### Model Development #####\n",
      "Model: \"sequential_32\"\n",
      "_________________________________________________________________\n",
      "Layer (type)                 Output Shape              Param #   \n",
      "=================================================================\n",
      "lstm_80 (LSTM)               (None, 32)                4608      \n",
      "_________________________________________________________________\n",
      "dense_96 (Dense)             (None, 32)                1056      \n",
      "_________________________________________________________________\n",
      "dense_97 (Dense)             (None, 7)                 231       \n",
      "_________________________________________________________________\n",
      "reshape_48 (Reshape)         (None, 7, 1)              0         \n",
      "=================================================================\n",
      "Total params: 5,895\n",
      "Trainable params: 5,895\n",
      "Non-trainable params: 0\n",
      "_________________________________________________________________\n",
      "Model: \"model_16\"\n",
      "__________________________________________________________________________________________________\n",
      "Layer (type)                    Output Shape         Param #     Connected to                     \n",
      "==================================================================================================\n",
      "input_34 (InputLayer)           [(None, 14, 3)]      0                                            \n",
      "__________________________________________________________________________________________________\n",
      "lstm_81 (LSTM)                  [(None, 14, 32), (No 4608        input_34[0][0]                   \n",
      "__________________________________________________________________________________________________\n",
      "multi_head_attention_16 (MultiH ((None, 14, 32), (No 58720       lstm_81[0][0]                    \n",
      "                                                                 lstm_81[0][0]                    \n",
      "__________________________________________________________________________________________________\n",
      "lstm_82 (LSTM)                  (None, 32)           8320        multi_head_attention_16[0][0]    \n",
      "                                                                 lstm_81[0][1]                    \n",
      "                                                                 lstm_81[0][2]                    \n",
      "__________________________________________________________________________________________________\n",
      "dense_98 (Dense)                (None, 32)           1056        lstm_82[0][0]                    \n",
      "__________________________________________________________________________________________________\n",
      "dense_99 (Dense)                (None, 7)            231         dense_98[0][0]                   \n",
      "__________________________________________________________________________________________________\n",
      "reshape_49 (Reshape)            (None, 7, 1)         0           dense_99[0][0]                   \n",
      "==================================================================================================\n",
      "Total params: 72,935\n",
      "Trainable params: 72,935\n",
      "Non-trainable params: 0\n",
      "__________________________________________________________________________________________________\n",
      "Model: \"sequential_33\"\n",
      "_________________________________________________________________\n",
      "Layer (type)                 Output Shape              Param #   \n",
      "=================================================================\n",
      "conv1d_32 (Conv1D)           (None, 14, 32)            320       \n",
      "_________________________________________________________________\n",
      "conv1d_33 (Conv1D)           (None, 14, 64)            6208      \n",
      "_________________________________________________________________\n",
      "max_pooling1d_16 (MaxPooling (None, 7, 64)             0         \n",
      "_________________________________________________________________\n",
      "lstm_83 (LSTM)               (None, 7, 32)             12416     \n",
      "_________________________________________________________________\n",
      "lstm_84 (LSTM)               (None, 64)                24832     \n",
      "_________________________________________________________________\n",
      "dense_100 (Dense)            (None, 64)                4160      \n",
      "_________________________________________________________________\n",
      "dense_101 (Dense)            (None, 7)                 455       \n",
      "_________________________________________________________________\n",
      "reshape_50 (Reshape)         (None, 7, 1)              0         \n",
      "=================================================================\n",
      "Total params: 48,391\n",
      "Trainable params: 48,391\n",
      "Non-trainable params: 0\n",
      "_________________________________________________________________\n",
      "##### Results #####\n",
      "##### Logging the metadata #####\n",
      "INFO:tensorflow:Assets written to: C:\\Users\\wasin\\Downloads\\Work\\PG(HKU)\\FYP\\Program_Data\\Models\\20211103 17-22LSTM\\assets\n"
     ]
    },
    {
     "name": "stderr",
     "output_type": "stream",
     "text": [
      "INFO:tensorflow:Assets written to: C:\\Users\\wasin\\Downloads\\Work\\PG(HKU)\\FYP\\Program_Data\\Models\\20211103 17-22LSTM\\assets\n",
      "WARNING:absl:Found untraced functions such as query_layer_call_and_return_conditional_losses, query_layer_call_fn, key_layer_call_and_return_conditional_losses, key_layer_call_fn, value_layer_call_and_return_conditional_losses while saving (showing 5 of 30). These functions will not be directly callable after loading.\n"
     ]
    },
    {
     "name": "stdout",
     "output_type": "stream",
     "text": [
      "INFO:tensorflow:Assets written to: C:\\Users\\wasin\\Downloads\\Work\\PG(HKU)\\FYP\\Program_Data\\Models\\20211103 17-22Attention\\assets\n"
     ]
    },
    {
     "name": "stderr",
     "output_type": "stream",
     "text": [
      "INFO:tensorflow:Assets written to: C:\\Users\\wasin\\Downloads\\Work\\PG(HKU)\\FYP\\Program_Data\\Models\\20211103 17-22Attention\\assets\n"
     ]
    },
    {
     "name": "stdout",
     "output_type": "stream",
     "text": [
      "INFO:tensorflow:Assets written to: C:\\Users\\wasin\\Downloads\\Work\\PG(HKU)\\FYP\\Program_Data\\Models\\20211103 17-22C-LSTM\\assets\n"
     ]
    },
    {
     "name": "stderr",
     "output_type": "stream",
     "text": [
      "INFO:tensorflow:Assets written to: C:\\Users\\wasin\\Downloads\\Work\\PG(HKU)\\FYP\\Program_Data\\Models\\20211103 17-22C-LSTM\\assets\n"
     ]
    },
    {
     "name": "stdout",
     "output_type": "stream",
     "text": [
      "##### Log completed #####\n",
      "##### Reshape and MinMaxScale input #####\n",
      "(529, 14, 3) (529, 7, 1) (59, 14, 3) (59, 7, 1)\n",
      "##### Model Development #####\n",
      "Model: \"sequential_34\"\n",
      "_________________________________________________________________\n",
      "Layer (type)                 Output Shape              Param #   \n",
      "=================================================================\n",
      "lstm_85 (LSTM)               (None, 32)                4608      \n",
      "_________________________________________________________________\n",
      "dense_102 (Dense)            (None, 32)                1056      \n",
      "_________________________________________________________________\n",
      "dense_103 (Dense)            (None, 7)                 231       \n",
      "_________________________________________________________________\n",
      "reshape_51 (Reshape)         (None, 7, 1)              0         \n",
      "=================================================================\n",
      "Total params: 5,895\n",
      "Trainable params: 5,895\n",
      "Non-trainable params: 0\n",
      "_________________________________________________________________\n",
      "Model: \"model_17\"\n",
      "__________________________________________________________________________________________________\n",
      "Layer (type)                    Output Shape         Param #     Connected to                     \n",
      "==================================================================================================\n",
      "input_36 (InputLayer)           [(None, 14, 3)]      0                                            \n",
      "__________________________________________________________________________________________________\n",
      "lstm_86 (LSTM)                  [(None, 14, 32), (No 4608        input_36[0][0]                   \n",
      "__________________________________________________________________________________________________\n",
      "multi_head_attention_17 (MultiH ((None, 14, 32), (No 58720       lstm_86[0][0]                    \n",
      "                                                                 lstm_86[0][0]                    \n",
      "__________________________________________________________________________________________________\n",
      "lstm_87 (LSTM)                  (None, 32)           8320        multi_head_attention_17[0][0]    \n",
      "                                                                 lstm_86[0][1]                    \n",
      "                                                                 lstm_86[0][2]                    \n",
      "__________________________________________________________________________________________________\n",
      "dense_104 (Dense)               (None, 32)           1056        lstm_87[0][0]                    \n",
      "__________________________________________________________________________________________________\n",
      "dense_105 (Dense)               (None, 7)            231         dense_104[0][0]                  \n",
      "__________________________________________________________________________________________________\n",
      "reshape_52 (Reshape)            (None, 7, 1)         0           dense_105[0][0]                  \n",
      "==================================================================================================\n",
      "Total params: 72,935\n",
      "Trainable params: 72,935\n",
      "Non-trainable params: 0\n",
      "__________________________________________________________________________________________________\n",
      "Model: \"sequential_35\"\n",
      "_________________________________________________________________\n",
      "Layer (type)                 Output Shape              Param #   \n",
      "=================================================================\n",
      "conv1d_34 (Conv1D)           (None, 14, 32)            320       \n",
      "_________________________________________________________________\n",
      "conv1d_35 (Conv1D)           (None, 14, 64)            6208      \n",
      "_________________________________________________________________\n",
      "max_pooling1d_17 (MaxPooling (None, 7, 64)             0         \n",
      "_________________________________________________________________\n",
      "lstm_88 (LSTM)               (None, 7, 32)             12416     \n",
      "_________________________________________________________________\n",
      "lstm_89 (LSTM)               (None, 64)                24832     \n",
      "_________________________________________________________________\n",
      "dense_106 (Dense)            (None, 64)                4160      \n",
      "_________________________________________________________________\n",
      "dense_107 (Dense)            (None, 7)                 455       \n",
      "_________________________________________________________________\n",
      "reshape_53 (Reshape)         (None, 7, 1)              0         \n",
      "=================================================================\n",
      "Total params: 48,391\n",
      "Trainable params: 48,391\n",
      "Non-trainable params: 0\n",
      "_________________________________________________________________\n",
      "##### Results #####\n",
      "##### Logging the metadata #####\n",
      "INFO:tensorflow:Assets written to: C:\\Users\\wasin\\Downloads\\Work\\PG(HKU)\\FYP\\Program_Data\\Models\\20211103 18-13LSTM\\assets\n"
     ]
    },
    {
     "name": "stderr",
     "output_type": "stream",
     "text": [
      "INFO:tensorflow:Assets written to: C:\\Users\\wasin\\Downloads\\Work\\PG(HKU)\\FYP\\Program_Data\\Models\\20211103 18-13LSTM\\assets\n",
      "WARNING:absl:Found untraced functions such as query_layer_call_and_return_conditional_losses, query_layer_call_fn, key_layer_call_and_return_conditional_losses, key_layer_call_fn, value_layer_call_and_return_conditional_losses while saving (showing 5 of 30). These functions will not be directly callable after loading.\n"
     ]
    },
    {
     "name": "stdout",
     "output_type": "stream",
     "text": [
      "INFO:tensorflow:Assets written to: C:\\Users\\wasin\\Downloads\\Work\\PG(HKU)\\FYP\\Program_Data\\Models\\20211103 18-13Attention\\assets\n"
     ]
    },
    {
     "name": "stderr",
     "output_type": "stream",
     "text": [
      "INFO:tensorflow:Assets written to: C:\\Users\\wasin\\Downloads\\Work\\PG(HKU)\\FYP\\Program_Data\\Models\\20211103 18-13Attention\\assets\n"
     ]
    },
    {
     "name": "stdout",
     "output_type": "stream",
     "text": [
      "INFO:tensorflow:Assets written to: C:\\Users\\wasin\\Downloads\\Work\\PG(HKU)\\FYP\\Program_Data\\Models\\20211103 18-13C-LSTM\\assets\n"
     ]
    },
    {
     "name": "stderr",
     "output_type": "stream",
     "text": [
      "INFO:tensorflow:Assets written to: C:\\Users\\wasin\\Downloads\\Work\\PG(HKU)\\FYP\\Program_Data\\Models\\20211103 18-13C-LSTM\\assets\n"
     ]
    },
    {
     "name": "stdout",
     "output_type": "stream",
     "text": [
      "##### Log completed #####\n",
      "##### Reshape and MinMaxScale input #####\n",
      "(529, 14, 3) (529, 7, 1) (59, 14, 3) (59, 7, 1)\n",
      "##### Model Development #####\n",
      "Model: \"sequential_36\"\n",
      "_________________________________________________________________\n",
      "Layer (type)                 Output Shape              Param #   \n",
      "=================================================================\n",
      "lstm_90 (LSTM)               (None, 32)                4608      \n",
      "_________________________________________________________________\n",
      "dense_108 (Dense)            (None, 32)                1056      \n",
      "_________________________________________________________________\n",
      "dense_109 (Dense)            (None, 7)                 231       \n",
      "_________________________________________________________________\n",
      "reshape_54 (Reshape)         (None, 7, 1)              0         \n",
      "=================================================================\n",
      "Total params: 5,895\n",
      "Trainable params: 5,895\n",
      "Non-trainable params: 0\n",
      "_________________________________________________________________\n",
      "Model: \"model_18\"\n",
      "__________________________________________________________________________________________________\n",
      "Layer (type)                    Output Shape         Param #     Connected to                     \n",
      "==================================================================================================\n",
      "input_38 (InputLayer)           [(None, 14, 3)]      0                                            \n",
      "__________________________________________________________________________________________________\n",
      "lstm_91 (LSTM)                  [(None, 14, 32), (No 4608        input_38[0][0]                   \n",
      "__________________________________________________________________________________________________\n",
      "multi_head_attention_18 (MultiH ((None, 14, 32), (No 58720       lstm_91[0][0]                    \n",
      "                                                                 lstm_91[0][0]                    \n",
      "__________________________________________________________________________________________________\n",
      "lstm_92 (LSTM)                  (None, 32)           8320        multi_head_attention_18[0][0]    \n",
      "                                                                 lstm_91[0][1]                    \n",
      "                                                                 lstm_91[0][2]                    \n",
      "__________________________________________________________________________________________________\n",
      "dense_110 (Dense)               (None, 32)           1056        lstm_92[0][0]                    \n",
      "__________________________________________________________________________________________________\n",
      "dense_111 (Dense)               (None, 7)            231         dense_110[0][0]                  \n",
      "__________________________________________________________________________________________________\n",
      "reshape_55 (Reshape)            (None, 7, 1)         0           dense_111[0][0]                  \n",
      "==================================================================================================\n",
      "Total params: 72,935\n",
      "Trainable params: 72,935\n",
      "Non-trainable params: 0\n",
      "__________________________________________________________________________________________________\n",
      "Model: \"sequential_37\"\n",
      "_________________________________________________________________\n",
      "Layer (type)                 Output Shape              Param #   \n",
      "=================================================================\n",
      "conv1d_36 (Conv1D)           (None, 14, 32)            320       \n",
      "_________________________________________________________________\n",
      "conv1d_37 (Conv1D)           (None, 14, 64)            6208      \n",
      "_________________________________________________________________\n",
      "max_pooling1d_18 (MaxPooling (None, 7, 64)             0         \n",
      "_________________________________________________________________\n",
      "lstm_93 (LSTM)               (None, 7, 32)             12416     \n",
      "_________________________________________________________________\n",
      "lstm_94 (LSTM)               (None, 64)                24832     \n",
      "_________________________________________________________________\n",
      "dense_112 (Dense)            (None, 64)                4160      \n",
      "_________________________________________________________________\n",
      "dense_113 (Dense)            (None, 7)                 455       \n",
      "_________________________________________________________________\n",
      "reshape_56 (Reshape)         (None, 7, 1)              0         \n",
      "=================================================================\n",
      "Total params: 48,391\n",
      "Trainable params: 48,391\n",
      "Non-trainable params: 0\n",
      "_________________________________________________________________\n",
      "##### Results #####\n",
      "##### Logging the metadata #####\n",
      "INFO:tensorflow:Assets written to: C:\\Users\\wasin\\Downloads\\Work\\PG(HKU)\\FYP\\Program_Data\\Models\\20211103 19-07LSTM\\assets\n"
     ]
    },
    {
     "name": "stderr",
     "output_type": "stream",
     "text": [
      "INFO:tensorflow:Assets written to: C:\\Users\\wasin\\Downloads\\Work\\PG(HKU)\\FYP\\Program_Data\\Models\\20211103 19-07LSTM\\assets\n",
      "WARNING:absl:Found untraced functions such as query_layer_call_and_return_conditional_losses, query_layer_call_fn, key_layer_call_and_return_conditional_losses, key_layer_call_fn, value_layer_call_and_return_conditional_losses while saving (showing 5 of 30). These functions will not be directly callable after loading.\n"
     ]
    },
    {
     "name": "stdout",
     "output_type": "stream",
     "text": [
      "INFO:tensorflow:Assets written to: C:\\Users\\wasin\\Downloads\\Work\\PG(HKU)\\FYP\\Program_Data\\Models\\20211103 19-07Attention\\assets\n"
     ]
    },
    {
     "name": "stderr",
     "output_type": "stream",
     "text": [
      "INFO:tensorflow:Assets written to: C:\\Users\\wasin\\Downloads\\Work\\PG(HKU)\\FYP\\Program_Data\\Models\\20211103 19-07Attention\\assets\n"
     ]
    },
    {
     "name": "stdout",
     "output_type": "stream",
     "text": [
      "INFO:tensorflow:Assets written to: C:\\Users\\wasin\\Downloads\\Work\\PG(HKU)\\FYP\\Program_Data\\Models\\20211103 19-07C-LSTM\\assets\n"
     ]
    },
    {
     "name": "stderr",
     "output_type": "stream",
     "text": [
      "INFO:tensorflow:Assets written to: C:\\Users\\wasin\\Downloads\\Work\\PG(HKU)\\FYP\\Program_Data\\Models\\20211103 19-07C-LSTM\\assets\n"
     ]
    },
    {
     "name": "stdout",
     "output_type": "stream",
     "text": [
      "##### Log completed #####\n",
      "##### Reshape and MinMaxScale input #####\n",
      "(529, 14, 3) (529, 7, 1) (59, 14, 3) (59, 7, 1)\n",
      "##### Model Development #####\n",
      "Model: \"sequential_38\"\n",
      "_________________________________________________________________\n",
      "Layer (type)                 Output Shape              Param #   \n",
      "=================================================================\n",
      "lstm_95 (LSTM)               (None, 32)                4608      \n",
      "_________________________________________________________________\n",
      "dense_114 (Dense)            (None, 32)                1056      \n",
      "_________________________________________________________________\n",
      "dense_115 (Dense)            (None, 7)                 231       \n",
      "_________________________________________________________________\n",
      "reshape_57 (Reshape)         (None, 7, 1)              0         \n",
      "=================================================================\n",
      "Total params: 5,895\n",
      "Trainable params: 5,895\n",
      "Non-trainable params: 0\n",
      "_________________________________________________________________\n",
      "Model: \"model_19\"\n",
      "__________________________________________________________________________________________________\n",
      "Layer (type)                    Output Shape         Param #     Connected to                     \n",
      "==================================================================================================\n",
      "input_40 (InputLayer)           [(None, 14, 3)]      0                                            \n",
      "__________________________________________________________________________________________________\n",
      "lstm_96 (LSTM)                  [(None, 14, 32), (No 4608        input_40[0][0]                   \n",
      "__________________________________________________________________________________________________\n",
      "multi_head_attention_19 (MultiH ((None, 14, 32), (No 58720       lstm_96[0][0]                    \n",
      "                                                                 lstm_96[0][0]                    \n",
      "__________________________________________________________________________________________________\n",
      "lstm_97 (LSTM)                  (None, 32)           8320        multi_head_attention_19[0][0]    \n",
      "                                                                 lstm_96[0][1]                    \n",
      "                                                                 lstm_96[0][2]                    \n",
      "__________________________________________________________________________________________________\n",
      "dense_116 (Dense)               (None, 32)           1056        lstm_97[0][0]                    \n",
      "__________________________________________________________________________________________________\n",
      "dense_117 (Dense)               (None, 7)            231         dense_116[0][0]                  \n",
      "__________________________________________________________________________________________________\n",
      "reshape_58 (Reshape)            (None, 7, 1)         0           dense_117[0][0]                  \n",
      "==================================================================================================\n",
      "Total params: 72,935\n",
      "Trainable params: 72,935\n",
      "Non-trainable params: 0\n",
      "__________________________________________________________________________________________________\n",
      "Model: \"sequential_39\"\n",
      "_________________________________________________________________\n",
      "Layer (type)                 Output Shape              Param #   \n",
      "=================================================================\n",
      "conv1d_38 (Conv1D)           (None, 14, 32)            320       \n",
      "_________________________________________________________________\n",
      "conv1d_39 (Conv1D)           (None, 14, 64)            6208      \n",
      "_________________________________________________________________\n",
      "max_pooling1d_19 (MaxPooling (None, 7, 64)             0         \n",
      "_________________________________________________________________\n",
      "lstm_98 (LSTM)               (None, 7, 32)             12416     \n",
      "_________________________________________________________________\n",
      "lstm_99 (LSTM)               (None, 64)                24832     \n",
      "_________________________________________________________________\n",
      "dense_118 (Dense)            (None, 64)                4160      \n",
      "_________________________________________________________________\n",
      "dense_119 (Dense)            (None, 7)                 455       \n",
      "_________________________________________________________________\n",
      "reshape_59 (Reshape)         (None, 7, 1)              0         \n",
      "=================================================================\n",
      "Total params: 48,391\n",
      "Trainable params: 48,391\n",
      "Non-trainable params: 0\n",
      "_________________________________________________________________\n",
      "##### Results #####\n",
      "##### Logging the metadata #####\n",
      "INFO:tensorflow:Assets written to: C:\\Users\\wasin\\Downloads\\Work\\PG(HKU)\\FYP\\Program_Data\\Models\\20211103 20-01LSTM\\assets\n"
     ]
    },
    {
     "name": "stderr",
     "output_type": "stream",
     "text": [
      "INFO:tensorflow:Assets written to: C:\\Users\\wasin\\Downloads\\Work\\PG(HKU)\\FYP\\Program_Data\\Models\\20211103 20-01LSTM\\assets\n",
      "WARNING:absl:Found untraced functions such as query_layer_call_and_return_conditional_losses, query_layer_call_fn, key_layer_call_and_return_conditional_losses, key_layer_call_fn, value_layer_call_and_return_conditional_losses while saving (showing 5 of 30). These functions will not be directly callable after loading.\n"
     ]
    },
    {
     "name": "stdout",
     "output_type": "stream",
     "text": [
      "INFO:tensorflow:Assets written to: C:\\Users\\wasin\\Downloads\\Work\\PG(HKU)\\FYP\\Program_Data\\Models\\20211103 20-01Attention\\assets\n"
     ]
    },
    {
     "name": "stderr",
     "output_type": "stream",
     "text": [
      "INFO:tensorflow:Assets written to: C:\\Users\\wasin\\Downloads\\Work\\PG(HKU)\\FYP\\Program_Data\\Models\\20211103 20-01Attention\\assets\n"
     ]
    },
    {
     "name": "stdout",
     "output_type": "stream",
     "text": [
      "INFO:tensorflow:Assets written to: C:\\Users\\wasin\\Downloads\\Work\\PG(HKU)\\FYP\\Program_Data\\Models\\20211103 20-01C-LSTM\\assets\n"
     ]
    },
    {
     "name": "stderr",
     "output_type": "stream",
     "text": [
      "INFO:tensorflow:Assets written to: C:\\Users\\wasin\\Downloads\\Work\\PG(HKU)\\FYP\\Program_Data\\Models\\20211103 20-01C-LSTM\\assets\n"
     ]
    },
    {
     "name": "stdout",
     "output_type": "stream",
     "text": [
      "##### Log completed #####\n",
      "##### Reshape and MinMaxScale input #####\n",
      "(529, 14, 3) (529, 7, 1) (59, 14, 3) (59, 7, 1)\n",
      "##### Model Development #####\n",
      "Model: \"sequential_40\"\n",
      "_________________________________________________________________\n",
      "Layer (type)                 Output Shape              Param #   \n",
      "=================================================================\n",
      "lstm_100 (LSTM)              (None, 32)                4608      \n",
      "_________________________________________________________________\n",
      "dense_120 (Dense)            (None, 32)                1056      \n",
      "_________________________________________________________________\n",
      "dense_121 (Dense)            (None, 7)                 231       \n",
      "_________________________________________________________________\n",
      "reshape_60 (Reshape)         (None, 7, 1)              0         \n",
      "=================================================================\n",
      "Total params: 5,895\n",
      "Trainable params: 5,895\n",
      "Non-trainable params: 0\n",
      "_________________________________________________________________\n",
      "Model: \"model_20\"\n",
      "__________________________________________________________________________________________________\n",
      "Layer (type)                    Output Shape         Param #     Connected to                     \n",
      "==================================================================================================\n",
      "input_42 (InputLayer)           [(None, 14, 3)]      0                                            \n",
      "__________________________________________________________________________________________________\n",
      "lstm_101 (LSTM)                 [(None, 14, 32), (No 4608        input_42[0][0]                   \n",
      "__________________________________________________________________________________________________\n",
      "multi_head_attention_20 (MultiH ((None, 14, 32), (No 58720       lstm_101[0][0]                   \n",
      "                                                                 lstm_101[0][0]                   \n",
      "__________________________________________________________________________________________________\n",
      "lstm_102 (LSTM)                 (None, 32)           8320        multi_head_attention_20[0][0]    \n",
      "                                                                 lstm_101[0][1]                   \n",
      "                                                                 lstm_101[0][2]                   \n",
      "__________________________________________________________________________________________________\n",
      "dense_122 (Dense)               (None, 32)           1056        lstm_102[0][0]                   \n",
      "__________________________________________________________________________________________________\n",
      "dense_123 (Dense)               (None, 7)            231         dense_122[0][0]                  \n",
      "__________________________________________________________________________________________________\n",
      "reshape_61 (Reshape)            (None, 7, 1)         0           dense_123[0][0]                  \n",
      "==================================================================================================\n",
      "Total params: 72,935\n",
      "Trainable params: 72,935\n",
      "Non-trainable params: 0\n",
      "__________________________________________________________________________________________________\n"
     ]
    }
   ],
   "source": [
    "for i in range(100):\n",
    "    features = covid_cases\n",
    "    x_train, x_test, y_train, y_test, _, _ = data_handling(df, features, required_days, pred_days)\n",
    "    model_development(x_train, x_test, y_train, y_test, \"C\", country, modeldir, logdir, required_days, pred_days)"
   ]
  },
  {
   "cell_type": "code",
   "execution_count": null,
   "metadata": {},
   "outputs": [],
   "source": [
    "features = policy\n",
    "x_train, x_test, y_train, y_test, _, _ = data_handling(df, features, required_days, pred_days)\n",
    "model_development(x_train, x_test, y_train, y_test, \"P\", country, modeldir, logdir, required_days, pred_days)"
   ]
  },
  {
   "cell_type": "code",
   "execution_count": null,
   "metadata": {},
   "outputs": [],
   "source": [
    "features = policy + covid_cases\n",
    "x_train, x_test, y_train, y_test, _, _ = data_handling(df, features, required_days, pred_days)\n",
    "model_development(x_train, x_test, y_train, y_test, \"PC\", country, modeldir, logdir, required_days, pred_days)"
   ]
  },
  {
   "cell_type": "code",
   "execution_count": null,
   "metadata": {},
   "outputs": [],
   "source": [
    "features = policy + covid_cases + social_media\n",
    "x_train, x_test, y_train, y_test, _, _ = data_handling(df, features, required_days, pred_days)\n",
    "model_development(x_train, x_test, y_train, y_test, \"PCS\", country, modeldir, logdir, required_days, pred_days)"
   ]
  },
  {
   "cell_type": "code",
   "execution_count": null,
   "metadata": {},
   "outputs": [],
   "source": [
    "### Best model for the country\n",
    "log_file = os.path.join(logdir,\"Models.csv\")\n",
    "best_result = get_model(log_file, country)\n",
    "\n",
    "features_used = best_result['Features'].values[0]\n",
    "algo = best_result['Algorithm'].values[0]\n",
    "best_model_filepath = best_result['Model_path'].values[0]\n",
    "best_model = models.load_model(best_model_filepath, custom_objects={'rmse':rmse})\n",
    "config = best_model.get_config()\n",
    "\n",
    "if features_used == \"P\":\n",
    "    features = policy\n",
    "elif features_used == \"PC\":\n",
    "    features = policy + covid_cases\n",
    "else:\n",
    "    features = policy + covid_cases + social_media\n",
    "\n",
    "x_train, x_test, y_train, y_test = data_handling(df, features, required_days, pred_days)\n",
    "y_pred_train = compress_to_2d(best_model.predict(x_train))\n",
    "y_pred_test = compress_to_2d(best_model.predict(x_test))\n",
    "y_true_train = compress_to_2d(y_train)\n",
    "y_true_test = compress_to_2d(y_test)\n",
    "\n",
    "mse = tf.keras.losses.MeanSquaredError()\n",
    "loss = mse(y_true_train, y_pred_train).numpy()\n",
    "val_loss = mse(y_true_test, y_pred_test).numpy()"
   ]
  },
  {
   "cell_type": "code",
   "execution_count": null,
   "metadata": {},
   "outputs": [],
   "source": [
    "early_stopping = EarlyStopping(monitor='val_loss', min_delta=0.01, patience=100, mode='min')\n",
    "reduce_lr = ReduceLROnPlateau(monitor='val_loss', patience=10, factor=0.4, min=0.00001)\n",
    "opt = optimizers.Adam(learning_rate=0.01)"
   ]
  },
  {
   "cell_type": "code",
   "execution_count": null,
   "metadata": {},
   "outputs": [],
   "source": [
    "### Feature importance for the country\n",
    "result = {}\n",
    "\n",
    "for i in range(len(policy)):\n",
    "    \n",
    "    target = policy[i]\n",
    "    x_train, x_test, y_train, y_test = data_handling(df, features, required_days, pred_days, swap_col=target)\n",
    "    \n",
    "    exp_train = compress_to_2d(best_model.predict(x_train))\n",
    "    exp_test = compress_to_2d(best_model.predict(x_test))\n",
    "    \n",
    "    draw_graph(exp_train, exp_test, y_true_train, y_true_test, required_days, pred_days, country, features_used, x_train, algo)\n",
    "    \n",
    "    _loss = mse(y_true_train, exp_train).numpy()\n",
    "    _val_loss = mse(y_true_test, exp_test).numpy()\n",
    "    \n",
    "    print(\"######\", target, \"#####\")\n",
    "    print(\"Changes in loss: {}\".format(_loss-loss))\n",
    "    print(\"Changes in Validation loss: {}\".format(_val_loss-val_loss))\n",
    "    \n",
    "    result[target] = [loss, val_loss, _loss, _val_loss, _loss-loss, _val_loss-val_loss, _loss/loss, _val_loss/val_loss]\n",
    "\n",
    "Changes = pd.DataFrame.from_dict(result, orient='index', columns=['Old loss', 'Old Validation loss', 'New Loss', 'New Validation Loss', 'Changes in loss', \n",
    "                                                                 'Changes in validation loss', 'Ratio of new-old loss', 'Ratio of new-old validation loss'])\n",
    "Changes.to_csv(os.path.join(logdir, \"{}/{}_feat_importance.csv\".format(country, country)))"
   ]
  },
  {
   "cell_type": "code",
   "execution_count": null,
   "metadata": {},
   "outputs": [],
   "source": [
    "### Feature importance for the country each month\n",
    "months = ['Jan', 'Feb', 'March', 'April', 'May', 'June', 'July', 'August', 'Sept']\n",
    "\n",
    "for i in range(len(months)):\n",
    "\n",
    "    tmp = df[pd.to_datetime(df.index, dayfirst=True) < dt(2021, i+2, 1)]\n",
    "    \n",
    "    x_train, x_test, y_train, y_test = data_handling(tmp, features, required_days, pred_days, test_size=30)\n",
    "    y_pred_train = compress_to_2d(best_model.predict(x_train))\n",
    "    y_pred_test = compress_to_2d(best_model.predict(x_test))\n",
    "    y_true_train = compress_to_2d(y_train)\n",
    "    y_true_test = compress_to_2d(y_test)\n",
    "\n",
    "    mse = tf.keras.losses.MeanSquaredError()\n",
    "    loss = mse(y_true_train, y_pred_train).numpy()\n",
    "    val_loss = mse(y_true_test, y_pred_test).numpy()\n",
    "    \n",
    "    result2 = {}\n",
    "    \n",
    "    print(\"######\", months[i], \"#####\")\n",
    "\n",
    "    for j in range(len(policy)):\n",
    "        \n",
    "        target = policy[j]\n",
    "        xx_train, xx_test, yy_train, yy_test = data_handling(tmp, features, required_days, pred_days, swap_col=target, test_size=30)\n",
    "    \n",
    "        exp_train = compress_to_2d(best_model.predict(xx_train))\n",
    "        exp_test = compress_to_2d(best_model.predict(xx_test))\n",
    "    \n",
    "        draw_graph(exp_train, exp_test, y_true_train, y_true_test, required_days, pred_days, country, features_used, xx_train, algo)\n",
    "\n",
    "        _loss = mse(y_true_train, exp_train).numpy()\n",
    "        _val_loss = mse(y_true_test, exp_test).numpy()\n",
    "\n",
    "        print(\"######\", target, \"#####\")\n",
    "        print(\"Changes in loss: {}\".format(_loss-loss))\n",
    "        print(\"Changes in Validation loss: {}\".format(_val_loss-val_loss))\n",
    "\n",
    "        result2[target] = [loss, val_loss, _loss, _val_loss, _loss-loss, _val_loss-val_loss, _loss/loss, _val_loss/val_loss]\n",
    "\n",
    "    Changes = pd.DataFrame.from_dict(result2, orient='index', columns=['Old loss', 'Old Validation loss', 'New Loss', 'New Validation Loss', 'Changes in loss', \n",
    "                                                                 'Changes in validation loss', 'Ratio of new-old loss', 'Ratio of new-old validation loss'])\n",
    "    Changes.to_csv(os.path.join(logdir, \"{}/{}_feat_importance_{}.csv\".format(country, country, months[i])))"
   ]
  },
  {
   "cell_type": "markdown",
   "metadata": {},
   "source": [
    "### Feature importance for the country\n",
    "result2 = {}\n",
    "\n",
    "for i in range(len(policy)):\n",
    "    \n",
    "    target = policy[i]\n",
    "    x_train, x_test, y_train, y_test = data_handling(df, features, required_days, pred_days, swap_col=target)\n",
    "        \n",
    "    if algo == 'Attention':\n",
    "        model = keras.Model.from_config(config)\n",
    "    else:\n",
    "        model = keras.Sequential.from_config(config)\n",
    "\n",
    "    model.compile(optimizer=opt, loss=rmse)\n",
    "    model.summary()\n",
    "    \n",
    "    kf = KFold()\n",
    "    for train_index, test_index in kf.split(x_train):\n",
    "        xx_train, xx_test = x_train[train_index], x_train[test_index]\n",
    "        yy_train, yy_test = y_train[train_index], y_train[test_index]\n",
    "        \n",
    "        history = model.fit(xx_train, yy_train, shuffle=True,\n",
    "                 validation_data=(xx_test, yy_test),\n",
    "                 epochs=1000,\n",
    "                 callbacks=[early_stopping, reduce_lr],\n",
    "                 verbose=0)\n",
    "    \n",
    "    exp_train = compress_to_2d(model.predict(x_train))\n",
    "    exp_test = compress_to_2d(model.predict(x_test))\n",
    "\n",
    "    _loss = mse(y_true_train, exp_train).numpy()\n",
    "    _val_loss = mse(y_true_test, exp_test).numpy()\n",
    "    \n",
    "    print(\"######\", target, \"#####\")\n",
    "    print(\"Changes in loss: {}\".format(_loss-loss))\n",
    "    print(\"Changes in Validation loss: {}\".format(_val_loss-val_loss))\n",
    "    \n",
    "    result2[target] = [loss, val_loss, _loss, _val_loss, _loss-loss, _val_loss-val_loss, _loss/loss, _val_loss/val_loss]\n",
    "\n",
    "Changes = pd.DataFrame.from_dict(result2, orient='index', columns=['Old loss', 'Old Validation loss', 'New Loss', 'New Validation Loss', 'Changes in loss', \n",
    "                                                                 'Changes in validation loss', 'Ratio of new-old loss', 'Ratio of new-old validation loss'])\n",
    "Changes.to_csv(os.path.join(logdir, \"{}_feat_importance.csv\".format(country)))"
   ]
  },
  {
   "cell_type": "code",
   "execution_count": null,
   "metadata": {},
   "outputs": [],
   "source": []
  }
 ],
 "metadata": {
  "kernelspec": {
   "display_name": "Python 3 (ipykernel)",
   "language": "python",
   "name": "python3"
  },
  "language_info": {
   "codemirror_mode": {
    "name": "ipython",
    "version": 3
   },
   "file_extension": ".py",
   "mimetype": "text/x-python",
   "name": "python",
   "nbconvert_exporter": "python",
   "pygments_lexer": "ipython3",
   "version": "3.9.8"
  }
 },
 "nbformat": 4,
 "nbformat_minor": 4
}
