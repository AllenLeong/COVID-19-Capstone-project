{
 "cells": [
  {
   "cell_type": "code",
   "execution_count": 1,
   "id": "eed70223-cb48-4ee5-89d9-72f22dd5e941",
   "metadata": {},
   "outputs": [],
   "source": [
    "import os\n",
    "import pandas as pd\n",
    "import numpy as np\n",
    "import tensorflow as tf\n",
    "from tensorflow import keras\n",
    "import matplotlib.pyplot as plt\n",
    "import copy"
   ]
  },
  {
   "cell_type": "code",
   "execution_count": 2,
   "id": "0c6b9567-8930-48fb-b272-d27d8df5d9ff",
   "metadata": {},
   "outputs": [],
   "source": [
    "country = 'United States'\n",
    "datadir = os.path.join(os.getcwd(), \"Data\")\n",
    "modeldir = os.path.join(os.getcwd(), \"Models\")\n",
    "logdir = os.path.join(os.getcwd(), \"Log\")\n",
    "filename = \"Full_{}.csv\".format(country)\n",
    "filepath = os.path.join(datadir, filename)\n",
    "social_media = ['like_index','retweet_index']\n",
    "covid_cases = ['ConfirmedCases', 'ConfirmedDeaths', 'Daily_cases']\n",
    "general_info = ['CountryCode_x', 'CountryName_x', 'Jurisdiction', 'Date']\n",
    "num_variable = ['E3_Fiscal measures', 'E4_International support', 'H5_Investment in vaccines', 'H4_Emergency investment in healthcare']\n",
    "required_days = 14\n",
    "pred_days = 7"
   ]
  },
  {
   "cell_type": "code",
   "execution_count": 3,
   "id": "07039e24-e5b9-4be3-a7d5-59d346d4706d",
   "metadata": {},
   "outputs": [],
   "source": [
    "df = pd.read_csv(filepath, index_col=0)\n",
    "df.set_index('Date', inplace=True)"
   ]
  },
  {
   "cell_type": "code",
   "execution_count": 14,
   "id": "bf212b03-a137-46d9-a601-7e17f8a2af0a",
   "metadata": {},
   "outputs": [],
   "source": [
    "df['SMA14'] = df[['Daily_cases']].rolling(window=14).mean()\n",
    "df['SMA14_Diff'] = df['SMA14'].diff()\n",
    "df['EMA14'] = df[['Daily_cases']].ewm(span=14, adjust=False).mean()\n",
    "df['EMA14_Diff'] = df['EMA14'].diff()"
   ]
  },
  {
   "cell_type": "code",
   "execution_count": 15,
   "id": "97ded12f-82ab-4ec9-92f6-5c8aa21d1bcc",
   "metadata": {},
   "outputs": [],
   "source": [
    "df.to_csv(\"Testing.csv\")"
   ]
  },
  {
   "cell_type": "code",
   "execution_count": null,
   "id": "91b5c968-0a2c-4c9a-8f45-0d85b3413777",
   "metadata": {},
   "outputs": [],
   "source": []
  }
 ],
 "metadata": {
  "kernelspec": {
   "display_name": "Python 3 (ipykernel)",
   "language": "python",
   "name": "python3"
  },
  "language_info": {
   "codemirror_mode": {
    "name": "ipython",
    "version": 3
   },
   "file_extension": ".py",
   "mimetype": "text/x-python",
   "name": "python",
   "nbconvert_exporter": "python",
   "pygments_lexer": "ipython3",
   "version": "3.9.7"
  }
 },
 "nbformat": 4,
 "nbformat_minor": 5
}
